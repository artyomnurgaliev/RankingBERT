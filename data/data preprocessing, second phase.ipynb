{
 "cells": [
  {
   "cell_type": "code",
   "execution_count": 1,
   "id": "3529aa1d",
   "metadata": {
    "id": "3529aa1d"
   },
   "outputs": [],
   "source": [
    "import pandas as pd\n",
    "import gzip\n",
    "import json\n",
    "import seaborn as sns\n",
    "import numpy as np\n",
    "import time\n",
    "import html\n",
    "import re\n",
    "import os\n",
    "from typing import *\n",
    "import urllib.request\n",
    "from PIL import Image\n",
    "import cv2 as cv\n",
    "from matplotlib import pyplot as plt\n",
    "from tqdm import tqdm, trange\n",
    "tqdm.pandas()"
   ]
  },
  {
   "cell_type": "markdown",
   "id": "eb08dc31",
   "metadata": {},
   "source": [
    "### Вторая фаза предобработки"
   ]
  },
  {
   "cell_type": "code",
   "execution_count": 2,
   "id": "6796a317",
   "metadata": {},
   "outputs": [
    {
     "name": "stdout",
     "output_type": "stream",
     "text": [
      "CPU times: total: 8.61 s\n",
      "Wall time: 8.63 s\n"
     ]
    }
   ],
   "source": [
    "%%time\n",
    "metadata_test = pd.read_csv('metadata_parsed_with_images.csv')"
   ]
  },
  {
   "cell_type": "code",
   "execution_count": 3,
   "id": "87215a1a",
   "metadata": {},
   "outputs": [],
   "source": [
    "metadata_test = metadata_test.iloc[500000:600000]\n",
    "# metadata_test = metadata_test.iloc[0:300000]"
   ]
  },
  {
   "cell_type": "code",
   "execution_count": 4,
   "id": "ef98cd6c",
   "metadata": {},
   "outputs": [
    {
     "data": {
      "text/plain": [
       "(100000, 12)"
      ]
     },
     "execution_count": 4,
     "metadata": {},
     "output_type": "execute_result"
    }
   ],
   "source": [
    "metadata_test.shape"
   ]
  },
  {
   "cell_type": "code",
   "execution_count": 5,
   "id": "69faa1f8",
   "metadata": {},
   "outputs": [],
   "source": [
    "metadata_test = metadata_test.fillna('')"
   ]
  },
  {
   "cell_type": "code",
   "execution_count": 6,
   "id": "4a923fac",
   "metadata": {},
   "outputs": [],
   "source": [
    "import ast"
   ]
  },
  {
   "cell_type": "code",
   "execution_count": 7,
   "id": "b697ed7d",
   "metadata": {},
   "outputs": [
    {
     "name": "stdout",
     "output_type": "stream",
     "text": [
      "CPU times: total: 1.33 s\n",
      "Wall time: 1.35 s\n"
     ]
    }
   ],
   "source": [
    "%%time\n",
    "metadata_test['images'] = metadata_test['images'].apply(lambda x: ast.literal_eval(x))"
   ]
  },
  {
   "cell_type": "code",
   "execution_count": 8,
   "id": "9ae6ac90",
   "metadata": {},
   "outputs": [
    {
     "name": "stdout",
     "output_type": "stream",
     "text": [
      "CPU times: total: 1.27 s\n",
      "Wall time: 1.27 s\n"
     ]
    }
   ],
   "source": [
    "%%time\n",
    "metadata_test['imagesHighRes'] = metadata_test['imagesHighRes'].apply(lambda x: ast.literal_eval(x))"
   ]
  },
  {
   "cell_type": "code",
   "execution_count": 9,
   "id": "d572b51b",
   "metadata": {},
   "outputs": [],
   "source": [
    "part = metadata_test.copy()"
   ]
  },
  {
   "cell_type": "code",
   "execution_count": 10,
   "id": "a43732a1",
   "metadata": {},
   "outputs": [],
   "source": [
    "import traceback\n",
    "from functools import partial"
   ]
  },
  {
   "cell_type": "code",
   "execution_count": 14,
   "id": "8a7c429e",
   "metadata": {},
   "outputs": [],
   "source": [
    "# import psutil, humanize\n",
    "\n",
    "# def mem_report():\n",
    "#     print(\"CPU RAM Free: \" + humanize.naturalsize( psutil.virtual_memory().available ))\n",
    "\n",
    "# mem_report()"
   ]
  },
  {
   "cell_type": "code",
   "execution_count": 15,
   "id": "3a65ae43",
   "metadata": {},
   "outputs": [
    {
     "data": {
      "text/html": [
       "<div>\n",
       "<style scoped>\n",
       "    .dataframe tbody tr th:only-of-type {\n",
       "        vertical-align: middle;\n",
       "    }\n",
       "\n",
       "    .dataframe tbody tr th {\n",
       "        vertical-align: top;\n",
       "    }\n",
       "\n",
       "    .dataframe thead th {\n",
       "        text-align: right;\n",
       "    }\n",
       "</style>\n",
       "<table border=\"1\" class=\"dataframe\">\n",
       "  <thead>\n",
       "    <tr style=\"text-align: right;\">\n",
       "      <th></th>\n",
       "      <th>rank</th>\n",
       "      <th>category</th>\n",
       "      <th>description</th>\n",
       "      <th>title</th>\n",
       "      <th>brand</th>\n",
       "      <th>feature</th>\n",
       "      <th>price</th>\n",
       "      <th>asin</th>\n",
       "      <th>images</th>\n",
       "      <th>imagesHighRes</th>\n",
       "      <th>category_id</th>\n",
       "      <th>rank_scaled</th>\n",
       "      <th>image_count</th>\n",
       "    </tr>\n",
       "  </thead>\n",
       "  <tbody>\n",
       "    <tr>\n",
       "      <th>500000</th>\n",
       "      <td>7326.0</td>\n",
       "      <td>Electronics &gt; Accessories &amp; Supplies &gt; Televis...</td>\n",
       "      <td>This is a custom built replacement remote made...</td>\n",
       "      <td>Replacement Remote Control for PROSCAN 40LC45S...</td>\n",
       "      <td>Redi-Remote</td>\n",
       "      <td>Redi-Remotes cannot be programmed to control a...</td>\n",
       "      <td>2.00</td>\n",
       "      <td>B009H5LHZ6</td>\n",
       "      <td>[]</td>\n",
       "      <td>[]</td>\n",
       "      <td>854</td>\n",
       "      <td>2.135130</td>\n",
       "      <td>0</td>\n",
       "    </tr>\n",
       "    <tr>\n",
       "      <th>500001</th>\n",
       "      <td>9511.0</td>\n",
       "      <td>Electronics &gt; Televisions &amp; Video</td>\n",
       "      <td>This is a custom built replacement remote made...</td>\n",
       "      <td>Replacement Remote Control for PROSCAN 40LC45S...</td>\n",
       "      <td>Redi-Remote</td>\n",
       "      <td>Redi-Remotes cannot be programmed to control a...</td>\n",
       "      <td>2.00</td>\n",
       "      <td>B009H5LHZ6</td>\n",
       "      <td>[]</td>\n",
       "      <td>[]</td>\n",
       "      <td>920</td>\n",
       "      <td>2.021770</td>\n",
       "      <td>0</td>\n",
       "    </tr>\n",
       "    <tr>\n",
       "      <th>500002</th>\n",
       "      <td>17398.0</td>\n",
       "      <td>Electronics &gt; Accessories &amp; Supplies &gt; Audio &amp;...</td>\n",
       "      <td>This is a custom built replacement remote made...</td>\n",
       "      <td>Replacement Remote Control for HAFLER SERIES 945</td>\n",
       "      <td>Redi-Remote</td>\n",
       "      <td>Redi-Remotes cannot be programmed to control a...</td>\n",
       "      <td>29.95</td>\n",
       "      <td>B009H5L9W2</td>\n",
       "      <td>[]</td>\n",
       "      <td>[]</td>\n",
       "      <td>1015</td>\n",
       "      <td>1.759497</td>\n",
       "      <td>0</td>\n",
       "    </tr>\n",
       "    <tr>\n",
       "      <th>500003</th>\n",
       "      <td>40080.0</td>\n",
       "      <td>Electronics &gt; Accessories &amp; Supplies &gt; Televis...</td>\n",
       "      <td>This is a custom built replacement remote made...</td>\n",
       "      <td>Replacement Remote Control for HAFLER SERIES 945</td>\n",
       "      <td>Redi-Remote</td>\n",
       "      <td>Redi-Remotes cannot be programmed to control a...</td>\n",
       "      <td>29.95</td>\n",
       "      <td>B009H5L9W2</td>\n",
       "      <td>[]</td>\n",
       "      <td>[]</td>\n",
       "      <td>854</td>\n",
       "      <td>1.397069</td>\n",
       "      <td>0</td>\n",
       "    </tr>\n",
       "    <tr>\n",
       "      <th>500004</th>\n",
       "      <td>57785.0</td>\n",
       "      <td>Electronics &gt; Televisions &amp; Video</td>\n",
       "      <td>This is a custom built replacement remote made...</td>\n",
       "      <td>Replacement Remote Control for HAFLER SERIES 945</td>\n",
       "      <td>Redi-Remote</td>\n",
       "      <td>Redi-Remotes cannot be programmed to control a...</td>\n",
       "      <td>29.95</td>\n",
       "      <td>B009H5L9W2</td>\n",
       "      <td>[]</td>\n",
       "      <td>[]</td>\n",
       "      <td>920</td>\n",
       "      <td>1.238181</td>\n",
       "      <td>0</td>\n",
       "    </tr>\n",
       "  </tbody>\n",
       "</table>\n",
       "</div>"
      ],
      "text/plain": [
       "           rank                                           category  \\\n",
       "500000   7326.0  Electronics > Accessories & Supplies > Televis...   \n",
       "500001   9511.0                  Electronics > Televisions & Video   \n",
       "500002  17398.0  Electronics > Accessories & Supplies > Audio &...   \n",
       "500003  40080.0  Electronics > Accessories & Supplies > Televis...   \n",
       "500004  57785.0                  Electronics > Televisions & Video   \n",
       "\n",
       "                                              description  \\\n",
       "500000  This is a custom built replacement remote made...   \n",
       "500001  This is a custom built replacement remote made...   \n",
       "500002  This is a custom built replacement remote made...   \n",
       "500003  This is a custom built replacement remote made...   \n",
       "500004  This is a custom built replacement remote made...   \n",
       "\n",
       "                                                    title        brand  \\\n",
       "500000  Replacement Remote Control for PROSCAN 40LC45S...  Redi-Remote   \n",
       "500001  Replacement Remote Control for PROSCAN 40LC45S...  Redi-Remote   \n",
       "500002   Replacement Remote Control for HAFLER SERIES 945  Redi-Remote   \n",
       "500003   Replacement Remote Control for HAFLER SERIES 945  Redi-Remote   \n",
       "500004   Replacement Remote Control for HAFLER SERIES 945  Redi-Remote   \n",
       "\n",
       "                                                  feature  price        asin  \\\n",
       "500000  Redi-Remotes cannot be programmed to control a...   2.00  B009H5LHZ6   \n",
       "500001  Redi-Remotes cannot be programmed to control a...   2.00  B009H5LHZ6   \n",
       "500002  Redi-Remotes cannot be programmed to control a...  29.95  B009H5L9W2   \n",
       "500003  Redi-Remotes cannot be programmed to control a...  29.95  B009H5L9W2   \n",
       "500004  Redi-Remotes cannot be programmed to control a...  29.95  B009H5L9W2   \n",
       "\n",
       "       images imagesHighRes  category_id  rank_scaled  image_count  \n",
       "500000     []            []          854     2.135130            0  \n",
       "500001     []            []          920     2.021770            0  \n",
       "500002     []            []         1015     1.759497            0  \n",
       "500003     []            []          854     1.397069            0  \n",
       "500004     []            []          920     1.238181            0  "
      ]
     },
     "execution_count": 15,
     "metadata": {},
     "output_type": "execute_result"
    }
   ],
   "source": [
    "part.head()"
   ]
  },
  {
   "cell_type": "code",
   "execution_count": 16,
   "id": "cbdbd1e7",
   "metadata": {},
   "outputs": [
    {
     "data": {
      "text/plain": [
       "(100000, 13)"
      ]
     },
     "execution_count": 16,
     "metadata": {},
     "output_type": "execute_result"
    }
   ],
   "source": [
    "metadata_test.shape"
   ]
  },
  {
   "cell_type": "code",
   "execution_count": 17,
   "id": "a0ca2f5c",
   "metadata": {},
   "outputs": [],
   "source": [
    "import traceback\n",
    "\n",
    "def image_url(urls, path='images_0/'):\n",
    "    import traceback\n",
    "    try:\n",
    "        if len(urls) == 0:\n",
    "            return ''\n",
    "        url = urls[0]\n",
    "        return path + url[49:]\n",
    "    except Exception:\n",
    "        print(f'{traceback.format_exc()}')\n",
    "        return ''"
   ]
  },
  {
   "cell_type": "code",
   "execution_count": 18,
   "id": "f4499c61",
   "metadata": {},
   "outputs": [],
   "source": [
    "metadata_test['image_count'] = metadata_test.images.apply(lambda x: len(x))"
   ]
  },
  {
   "cell_type": "code",
   "execution_count": 19,
   "id": "6f8aded4",
   "metadata": {},
   "outputs": [],
   "source": [
    "parts = []\n",
    "\n",
    "part = metadata_test.copy()\n",
    "part['image_url_high_res'] = part.imagesHighRes.apply(partial(image_url, path=f'images_high_res_small/'))\n",
    "parts.append(part)\n",
    "    \n",
    "df = pd.concat(parts)"
   ]
  },
  {
   "cell_type": "code",
   "execution_count": 20,
   "id": "72035863",
   "metadata": {},
   "outputs": [],
   "source": [
    "# parts = []\n",
    "\n",
    "# for i in trange(3):\n",
    "#     l = i * 100000\n",
    "#     r = min(l + 100000, metadata_test.shape[0])\n",
    "#     print(f\"[{l}:{r}]\")\n",
    "#     mem_report()\n",
    "#     part = metadata_test.iloc[l:r]\n",
    "#     print('images')\n",
    "#     part['image_url'] = part.images.apply(partial(image_url, path=f'images_{i}/'))\n",
    "#     print('images high res')\n",
    "#     part['image_url_high_res'] = part.imagesHighRes.apply(partial(image_url, path=f'images_high_res_{i}/'))\n",
    "#     parts.append(part)\n",
    "    \n",
    "# df = pd.concat(parts)"
   ]
  },
  {
   "cell_type": "markdown",
   "id": "76fb500d",
   "metadata": {},
   "source": [
    "Разобъем все товары с одинаковыми категориями на батчи  по 40 товаров, у каждого батча уникальный category_id"
   ]
  },
  {
   "cell_type": "code",
   "execution_count": 22,
   "id": "7e77442c",
   "metadata": {},
   "outputs": [],
   "source": [
    "df = df.sort_values(by='category_id')"
   ]
  },
  {
   "cell_type": "code",
   "execution_count": 23,
   "id": "3dabb85b",
   "metadata": {},
   "outputs": [],
   "source": [
    "df['category_rank'] = df.groupby(['category_id']).cumcount()"
   ]
  },
  {
   "cell_type": "code",
   "execution_count": 24,
   "id": "a1e030dc",
   "metadata": {},
   "outputs": [],
   "source": [
    "df['category_id_batched'] = df.category_rank.apply(lambda x: x // 40)"
   ]
  },
  {
   "cell_type": "code",
   "execution_count": 25,
   "id": "997f49a3",
   "metadata": {},
   "outputs": [],
   "source": [
    "df['category_id'] = (df['category_id'] + 1) * 10000 + df['category_id_batched'] "
   ]
  },
  {
   "cell_type": "code",
   "execution_count": 26,
   "id": "4467d838",
   "metadata": {},
   "outputs": [
    {
     "data": {
      "text/plain": [
       "2943"
      ]
     },
     "execution_count": 26,
     "metadata": {},
     "output_type": "execute_result"
    }
   ],
   "source": [
    "len(set(df.category_id))"
   ]
  },
  {
   "cell_type": "code",
   "execution_count": 27,
   "id": "8979c16b",
   "metadata": {},
   "outputs": [],
   "source": [
    "metadata_parsed = df.copy()"
   ]
  },
  {
   "cell_type": "code",
   "execution_count": 29,
   "id": "5da73c6a",
   "metadata": {},
   "outputs": [],
   "source": [
    "def remove_seetop100(x):\n",
    "    start = x.lower().find('see top 100') \n",
    "    if start != -1:\n",
    "        return x[:start - 1]\n",
    "    return x"
   ]
  },
  {
   "cell_type": "code",
   "execution_count": 30,
   "id": "aba0aef5",
   "metadata": {},
   "outputs": [],
   "source": [
    "metadata_parsed['category'] = metadata_parsed['category'].apply(lambda x: remove_seetop100(x))"
   ]
  },
  {
   "cell_type": "code",
   "execution_count": 31,
   "id": "4f382679",
   "metadata": {},
   "outputs": [
    {
     "data": {
      "text/html": [
       "<div>\n",
       "<style scoped>\n",
       "    .dataframe tbody tr th:only-of-type {\n",
       "        vertical-align: middle;\n",
       "    }\n",
       "\n",
       "    .dataframe tbody tr th {\n",
       "        vertical-align: top;\n",
       "    }\n",
       "\n",
       "    .dataframe thead th {\n",
       "        text-align: right;\n",
       "    }\n",
       "</style>\n",
       "<table border=\"1\" class=\"dataframe\">\n",
       "  <thead>\n",
       "    <tr style=\"text-align: right;\">\n",
       "      <th></th>\n",
       "      <th>rank</th>\n",
       "      <th>category</th>\n",
       "      <th>description</th>\n",
       "      <th>title</th>\n",
       "      <th>brand</th>\n",
       "      <th>feature</th>\n",
       "      <th>price</th>\n",
       "      <th>asin</th>\n",
       "      <th>images</th>\n",
       "      <th>imagesHighRes</th>\n",
       "      <th>category_id</th>\n",
       "      <th>rank_scaled</th>\n",
       "      <th>image_count</th>\n",
       "      <th>image_url_high_res</th>\n",
       "      <th>category_rank</th>\n",
       "      <th>category_id_batched</th>\n",
       "    </tr>\n",
       "  </thead>\n",
       "  <tbody>\n",
       "    <tr>\n",
       "      <th>595306</th>\n",
       "      <td>167634.0</td>\n",
       "      <td>Home &amp; Kitchen</td>\n",
       "      <td>\"Brand New, High Speed USB 2.0 Data/Lead Cable...</td>\n",
       "      <td>maxinbuy MaxLLTo 5FT Extra Long USB DC Power C...</td>\n",
       "      <td>maxinbuy</td>\n",
       "      <td>USB DC Power Charging + Data Cable/Cord/Lead F...</td>\n",
       "      <td>6.99</td>\n",
       "      <td>B00J4LD8PK</td>\n",
       "      <td>[https://images-na.ssl-images-amazon.com/image...</td>\n",
       "      <td>[https://images-na.ssl-images-amazon.com/image...</td>\n",
       "      <td>10000</td>\n",
       "      <td>0.775634</td>\n",
       "      <td>5</td>\n",
       "      <td>images_high_res_small/41u0Pzcv8EL.jpg</td>\n",
       "      <td>0</td>\n",
       "      <td>0</td>\n",
       "    </tr>\n",
       "    <tr>\n",
       "      <th>565911</th>\n",
       "      <td>249287.0</td>\n",
       "      <td>Home &amp; Kitchen</td>\n",
       "      <td>The Hampton nautical solid Brass 62\" binocular...</td>\n",
       "      <td>Hampton Nautical Floor Standing Admirals Solid...</td>\n",
       "      <td>Hampton Nautical</td>\n",
       "      <td>12x magnification ultra large image size, Soli...</td>\n",
       "      <td>321.95</td>\n",
       "      <td>B00GA204XU</td>\n",
       "      <td>[https://images-na.ssl-images-amazon.com/image...</td>\n",
       "      <td>[https://images-na.ssl-images-amazon.com/image...</td>\n",
       "      <td>10000</td>\n",
       "      <td>0.603297</td>\n",
       "      <td>6</td>\n",
       "      <td>images_high_res_small/412%2BeCI5TQL.jpg</td>\n",
       "      <td>1</td>\n",
       "      <td>0</td>\n",
       "    </tr>\n",
       "    <tr>\n",
       "      <th>524672</th>\n",
       "      <td>562727.0</td>\n",
       "      <td>Home &amp; Kitchen</td>\n",
       "      <td>These are high quality 4 ply picture mats cut ...</td>\n",
       "      <td>Black 16x20 Collage Picture Mat for 15 Photos ...</td>\n",
       "      <td>bux1 picture matting</td>\n",
       "      <td>All openings are reduced by 1/2\" to overlap th...</td>\n",
       "      <td>10.99</td>\n",
       "      <td>B00BWUDNNS</td>\n",
       "      <td>[]</td>\n",
       "      <td>[]</td>\n",
       "      <td>10000</td>\n",
       "      <td>0.249699</td>\n",
       "      <td>0</td>\n",
       "      <td></td>\n",
       "      <td>2</td>\n",
       "      <td>0</td>\n",
       "    </tr>\n",
       "    <tr>\n",
       "      <th>567321</th>\n",
       "      <td>179494.0</td>\n",
       "      <td>Home &amp; Kitchen</td>\n",
       "      <td>\"- ICC Handset cord- 12 length- Curly handset ...</td>\n",
       "      <td>Cablesys GCHA444012-FCR / 12 RED Handset Cord</td>\n",
       "      <td>Cablesys</td>\n",
       "      <td>Manufactured By.: ICC, 1200RD</td>\n",
       "      <td>4.92</td>\n",
       "      <td>B00GG394NE</td>\n",
       "      <td>[]</td>\n",
       "      <td>[]</td>\n",
       "      <td>10000</td>\n",
       "      <td>0.745947</td>\n",
       "      <td>0</td>\n",
       "      <td></td>\n",
       "      <td>3</td>\n",
       "      <td>0</td>\n",
       "    </tr>\n",
       "    <tr>\n",
       "      <th>594030</th>\n",
       "      <td>102515.0</td>\n",
       "      <td>Home &amp; Kitchen</td>\n",
       "      <td>Smart magnetic cover For iPad 2/3/4 Please not...</td>\n",
       "      <td>Smart Magnetic Cover for Apple iPad 2, iPad 3 ...</td>\n",
       "      <td>inShang</td>\n",
       "      <td>inShang Super Smart Magnetic cover + back case...</td>\n",
       "      <td>8.98</td>\n",
       "      <td>B00IZX2NBS</td>\n",
       "      <td>[https://images-na.ssl-images-amazon.com/image...</td>\n",
       "      <td>[https://images-na.ssl-images-amazon.com/image...</td>\n",
       "      <td>10000</td>\n",
       "      <td>0.989209</td>\n",
       "      <td>13</td>\n",
       "      <td>images_high_res_small/41y-LE389NL.jpg</td>\n",
       "      <td>4</td>\n",
       "      <td>0</td>\n",
       "    </tr>\n",
       "    <tr>\n",
       "      <th>...</th>\n",
       "      <td>...</td>\n",
       "      <td>...</td>\n",
       "      <td>...</td>\n",
       "      <td>...</td>\n",
       "      <td>...</td>\n",
       "      <td>...</td>\n",
       "      <td>...</td>\n",
       "      <td>...</td>\n",
       "      <td>...</td>\n",
       "      <td>...</td>\n",
       "      <td>...</td>\n",
       "      <td>...</td>\n",
       "      <td>...</td>\n",
       "      <td>...</td>\n",
       "      <td>...</td>\n",
       "      <td>...</td>\n",
       "    </tr>\n",
       "    <tr>\n",
       "      <th>575168</th>\n",
       "      <td>48.0</td>\n",
       "      <td>Electronics &gt; Accessories &amp; Supplies &gt; Audio &amp;...</td>\n",
       "      <td>Accessories ONLY! The laptop is not included h...</td>\n",
       "      <td>uxcell Repair Part Internal Speakers Magnet 30...</td>\n",
       "      <td>uxcell</td>\n",
       "      <td>Product Name : Laptop Internal Speaker;Fit for...</td>\n",
       "      <td>4.63</td>\n",
       "      <td>B00H8TDAK8</td>\n",
       "      <td>[]</td>\n",
       "      <td>[]</td>\n",
       "      <td>24640000</td>\n",
       "      <td>4.318755</td>\n",
       "      <td>0</td>\n",
       "      <td></td>\n",
       "      <td>23</td>\n",
       "      <td>0</td>\n",
       "    </tr>\n",
       "    <tr>\n",
       "      <th>535688</th>\n",
       "      <td>271.0</td>\n",
       "      <td>Electronics &gt; Accessories &amp; Supplies &gt; Audio &amp;...</td>\n",
       "      <td>CUSTOM MADE Aftermarket 2\" Kicker Voice Coil. ...</td>\n",
       "      <td>2\" Kicker Voice Coil - D4 Ohm - L7 L5 CVR Solo...</td>\n",
       "      <td>Springfield Speaker</td>\n",
       "      <td>Not OEM; Custom-made for the application, Blac...</td>\n",
       "      <td>2.00</td>\n",
       "      <td>B00CUJ29A8</td>\n",
       "      <td>[]</td>\n",
       "      <td>[]</td>\n",
       "      <td>24640000</td>\n",
       "      <td>3.567027</td>\n",
       "      <td>0</td>\n",
       "      <td></td>\n",
       "      <td>24</td>\n",
       "      <td>0</td>\n",
       "    </tr>\n",
       "    <tr>\n",
       "      <th>570870</th>\n",
       "      <td>249.0</td>\n",
       "      <td>Electronics &gt; Accessories &amp; Supplies &gt; Audio &amp;...</td>\n",
       "      <td>This magnet speaker is designed with aluminum ...</td>\n",
       "      <td>uxcell 57mm Dia Silver Tone Round External Mag...</td>\n",
       "      <td>uxcell</td>\n",
       "      <td>Product Name : Magnet Speaker;Power : 0.5W;Res...</td>\n",
       "      <td>3.83</td>\n",
       "      <td>B00GSVI2C8</td>\n",
       "      <td>[]</td>\n",
       "      <td>[]</td>\n",
       "      <td>24640000</td>\n",
       "      <td>3.603797</td>\n",
       "      <td>0</td>\n",
       "      <td></td>\n",
       "      <td>25</td>\n",
       "      <td>0</td>\n",
       "    </tr>\n",
       "    <tr>\n",
       "      <th>521267</th>\n",
       "      <td>242.0</td>\n",
       "      <td>Electronics &gt; Accessories &amp; Supplies &gt; Audio &amp;...</td>\n",
       "      <td>This magnet speaker is designed with aluminum ...</td>\n",
       "      <td>uxcell 0.5W 0.5 Watt 8 Ohm 50mm Dia Aluminum R...</td>\n",
       "      <td>uxcell</td>\n",
       "      <td>Product Name : Magnet Speaker;Power : 0.5W;Res...</td>\n",
       "      <td>3.98</td>\n",
       "      <td>B00BM1QSM0</td>\n",
       "      <td>[https://images-na.ssl-images-amazon.com/image...</td>\n",
       "      <td>[https://images-na.ssl-images-amazon.com/image...</td>\n",
       "      <td>24640000</td>\n",
       "      <td>3.616181</td>\n",
       "      <td>1</td>\n",
       "      <td>images_high_res_small/41G16Ej%2B5pL.jpg</td>\n",
       "      <td>26</td>\n",
       "      <td>0</td>\n",
       "    </tr>\n",
       "    <tr>\n",
       "      <th>521259</th>\n",
       "      <td>252.0</td>\n",
       "      <td>Electronics &gt; Accessories &amp; Supplies &gt; Audio &amp;...</td>\n",
       "      <td>This internal magnet speaker is designed with ...</td>\n",
       "      <td>uxcell 3W 4 Ohm Aluminum Housing Waterproof In...</td>\n",
       "      <td>uxcell</td>\n",
       "      <td>Product Name : Magnet Speaker;Power : 3W, Resi...</td>\n",
       "      <td>3.82</td>\n",
       "      <td>B00BM1QMAI</td>\n",
       "      <td>[https://images-na.ssl-images-amazon.com/image...</td>\n",
       "      <td>[https://images-na.ssl-images-amazon.com/image...</td>\n",
       "      <td>24640000</td>\n",
       "      <td>3.598596</td>\n",
       "      <td>1</td>\n",
       "      <td>images_high_res_small/41MFx9pWTQL.jpg</td>\n",
       "      <td>27</td>\n",
       "      <td>0</td>\n",
       "    </tr>\n",
       "  </tbody>\n",
       "</table>\n",
       "<p>100000 rows × 16 columns</p>\n",
       "</div>"
      ],
      "text/plain": [
       "            rank                                           category  \\\n",
       "595306  167634.0                                    Home & Kitchen    \n",
       "565911  249287.0                                    Home & Kitchen    \n",
       "524672  562727.0                                    Home & Kitchen    \n",
       "567321  179494.0                                    Home & Kitchen    \n",
       "594030  102515.0                                    Home & Kitchen    \n",
       "...          ...                                                ...   \n",
       "575168      48.0  Electronics > Accessories & Supplies > Audio &...   \n",
       "535688     271.0  Electronics > Accessories & Supplies > Audio &...   \n",
       "570870     249.0  Electronics > Accessories & Supplies > Audio &...   \n",
       "521267     242.0  Electronics > Accessories & Supplies > Audio &...   \n",
       "521259     252.0  Electronics > Accessories & Supplies > Audio &...   \n",
       "\n",
       "                                              description  \\\n",
       "595306  \"Brand New, High Speed USB 2.0 Data/Lead Cable...   \n",
       "565911  The Hampton nautical solid Brass 62\" binocular...   \n",
       "524672  These are high quality 4 ply picture mats cut ...   \n",
       "567321  \"- ICC Handset cord- 12 length- Curly handset ...   \n",
       "594030  Smart magnetic cover For iPad 2/3/4 Please not...   \n",
       "...                                                   ...   \n",
       "575168  Accessories ONLY! The laptop is not included h...   \n",
       "535688  CUSTOM MADE Aftermarket 2\" Kicker Voice Coil. ...   \n",
       "570870  This magnet speaker is designed with aluminum ...   \n",
       "521267  This magnet speaker is designed with aluminum ...   \n",
       "521259  This internal magnet speaker is designed with ...   \n",
       "\n",
       "                                                    title  \\\n",
       "595306  maxinbuy MaxLLTo 5FT Extra Long USB DC Power C...   \n",
       "565911  Hampton Nautical Floor Standing Admirals Solid...   \n",
       "524672  Black 16x20 Collage Picture Mat for 15 Photos ...   \n",
       "567321      Cablesys GCHA444012-FCR / 12 RED Handset Cord   \n",
       "594030  Smart Magnetic Cover for Apple iPad 2, iPad 3 ...   \n",
       "...                                                   ...   \n",
       "575168  uxcell Repair Part Internal Speakers Magnet 30...   \n",
       "535688  2\" Kicker Voice Coil - D4 Ohm - L7 L5 CVR Solo...   \n",
       "570870  uxcell 57mm Dia Silver Tone Round External Mag...   \n",
       "521267  uxcell 0.5W 0.5 Watt 8 Ohm 50mm Dia Aluminum R...   \n",
       "521259  uxcell 3W 4 Ohm Aluminum Housing Waterproof In...   \n",
       "\n",
       "                       brand  \\\n",
       "595306              maxinbuy   \n",
       "565911      Hampton Nautical   \n",
       "524672  bux1 picture matting   \n",
       "567321              Cablesys   \n",
       "594030               inShang   \n",
       "...                      ...   \n",
       "575168                uxcell   \n",
       "535688   Springfield Speaker   \n",
       "570870                uxcell   \n",
       "521267                uxcell   \n",
       "521259                uxcell   \n",
       "\n",
       "                                                  feature   price        asin  \\\n",
       "595306  USB DC Power Charging + Data Cable/Cord/Lead F...    6.99  B00J4LD8PK   \n",
       "565911  12x magnification ultra large image size, Soli...  321.95  B00GA204XU   \n",
       "524672  All openings are reduced by 1/2\" to overlap th...   10.99  B00BWUDNNS   \n",
       "567321                      Manufactured By.: ICC, 1200RD    4.92  B00GG394NE   \n",
       "594030  inShang Super Smart Magnetic cover + back case...    8.98  B00IZX2NBS   \n",
       "...                                                   ...     ...         ...   \n",
       "575168  Product Name : Laptop Internal Speaker;Fit for...    4.63  B00H8TDAK8   \n",
       "535688  Not OEM; Custom-made for the application, Blac...    2.00  B00CUJ29A8   \n",
       "570870  Product Name : Magnet Speaker;Power : 0.5W;Res...    3.83  B00GSVI2C8   \n",
       "521267  Product Name : Magnet Speaker;Power : 0.5W;Res...    3.98  B00BM1QSM0   \n",
       "521259  Product Name : Magnet Speaker;Power : 3W, Resi...    3.82  B00BM1QMAI   \n",
       "\n",
       "                                                   images  \\\n",
       "595306  [https://images-na.ssl-images-amazon.com/image...   \n",
       "565911  [https://images-na.ssl-images-amazon.com/image...   \n",
       "524672                                                 []   \n",
       "567321                                                 []   \n",
       "594030  [https://images-na.ssl-images-amazon.com/image...   \n",
       "...                                                   ...   \n",
       "575168                                                 []   \n",
       "535688                                                 []   \n",
       "570870                                                 []   \n",
       "521267  [https://images-na.ssl-images-amazon.com/image...   \n",
       "521259  [https://images-na.ssl-images-amazon.com/image...   \n",
       "\n",
       "                                            imagesHighRes  category_id  \\\n",
       "595306  [https://images-na.ssl-images-amazon.com/image...        10000   \n",
       "565911  [https://images-na.ssl-images-amazon.com/image...        10000   \n",
       "524672                                                 []        10000   \n",
       "567321                                                 []        10000   \n",
       "594030  [https://images-na.ssl-images-amazon.com/image...        10000   \n",
       "...                                                   ...          ...   \n",
       "575168                                                 []     24640000   \n",
       "535688                                                 []     24640000   \n",
       "570870                                                 []     24640000   \n",
       "521267  [https://images-na.ssl-images-amazon.com/image...     24640000   \n",
       "521259  [https://images-na.ssl-images-amazon.com/image...     24640000   \n",
       "\n",
       "        rank_scaled  image_count                       image_url_high_res  \\\n",
       "595306     0.775634            5    images_high_res_small/41u0Pzcv8EL.jpg   \n",
       "565911     0.603297            6  images_high_res_small/412%2BeCI5TQL.jpg   \n",
       "524672     0.249699            0                                            \n",
       "567321     0.745947            0                                            \n",
       "594030     0.989209           13    images_high_res_small/41y-LE389NL.jpg   \n",
       "...             ...          ...                                      ...   \n",
       "575168     4.318755            0                                            \n",
       "535688     3.567027            0                                            \n",
       "570870     3.603797            0                                            \n",
       "521267     3.616181            1  images_high_res_small/41G16Ej%2B5pL.jpg   \n",
       "521259     3.598596            1    images_high_res_small/41MFx9pWTQL.jpg   \n",
       "\n",
       "        category_rank  category_id_batched  \n",
       "595306              0                    0  \n",
       "565911              1                    0  \n",
       "524672              2                    0  \n",
       "567321              3                    0  \n",
       "594030              4                    0  \n",
       "...               ...                  ...  \n",
       "575168             23                    0  \n",
       "535688             24                    0  \n",
       "570870             25                    0  \n",
       "521267             26                    0  \n",
       "521259             27                    0  \n",
       "\n",
       "[100000 rows x 16 columns]"
      ]
     },
     "execution_count": 31,
     "metadata": {},
     "output_type": "execute_result"
    }
   ],
   "source": [
    "metadata_parsed"
   ]
  },
  {
   "cell_type": "markdown",
   "id": "dca6e441",
   "metadata": {},
   "source": [
    "### Посчитаем NDCG случайного предсказания"
   ]
  },
  {
   "cell_type": "markdown",
   "id": "b68945f4",
   "metadata": {},
   "source": [
    "Для начала нужно понять, что такое случайное предсказание. Модель будет предсказывать новые ранги, а не просто сортировать уже имеющиеся.  \n",
    "В качестве довольно плохого приближения можно исплользовать равномерное распределение на [0, 6]  \n",
    "Более приближенное распределение рангов получится, если выбирать случайные ранги из списка всех рангов"
   ]
  },
  {
   "cell_type": "code",
   "execution_count": 32,
   "id": "003096ae",
   "metadata": {},
   "outputs": [],
   "source": [
    "category_ids = set(list(metadata_parsed.category_id))"
   ]
  },
  {
   "cell_type": "code",
   "execution_count": 33,
   "id": "e54746f9",
   "metadata": {},
   "outputs": [],
   "source": [
    "all_ranks = list(metadata_parsed[\"rank_scaled\"])"
   ]
  },
  {
   "cell_type": "code",
   "execution_count": 34,
   "id": "c35c0844",
   "metadata": {},
   "outputs": [
    {
     "name": "stdout",
     "output_type": "stream",
     "text": [
      "100000\n"
     ]
    }
   ],
   "source": [
    "print(len(all_ranks))"
   ]
  },
  {
   "cell_type": "code",
   "execution_count": 35,
   "id": "028ddd1d",
   "metadata": {},
   "outputs": [],
   "source": [
    "import random\n",
    "\n",
    "NUM_ITEMS = 40\n",
    "\n",
    "real_ranks = []\n",
    "random_ranks = []\n",
    "\n",
    "for category in category_ids:\n",
    "    ordered_rank_list = list(metadata_parsed[metadata_parsed['category_id'] == category].sort_values(by='rank').iloc[0:NUM_ITEMS]['rank_scaled'])\n",
    "    if len(a) < 40:\n",
    "        continue\n",
    "    real_ranks.append(ordered_rank_list)\n",
    "    random_ranks.append(random.sample(all_ranks, NUM_ITEMS))"
   ]
  },
  {
   "cell_type": "code",
   "execution_count": 36,
   "id": "34b13fb2",
   "metadata": {},
   "outputs": [
    {
     "name": "stdout",
     "output_type": "stream",
     "text": [
      "(2162, 40)\n",
      "(2162, 40)\n"
     ]
    }
   ],
   "source": [
    "print(np.array(real_ranks).shape)\n",
    "print(np.array(random_ranks).shape)"
   ]
  },
  {
   "cell_type": "code",
   "execution_count": 37,
   "id": "7d5e7870",
   "metadata": {},
   "outputs": [
    {
     "name": "stderr",
     "output_type": "stream",
     "text": [
      "C:\\Users\\artyo\\anaconda3\\envs\\tfr-bert-demo\\lib\\site-packages\\tqdm\\auto.py:22: TqdmWarning: IProgress not found. Please update jupyter and ipywidgets. See https://ipywidgets.readthedocs.io/en/stable/user_install.html\n",
      "  from .autonotebook import tqdm as notebook_tqdm\n"
     ]
    }
   ],
   "source": [
    "import tensorflow as tf\n",
    "import tensorflow_datasets as tfds\n",
    "import tensorflow_ranking as tfr"
   ]
  },
  {
   "cell_type": "code",
   "execution_count": 38,
   "id": "6a5424a7",
   "metadata": {},
   "outputs": [
    {
     "name": "stdout",
     "output_type": "stream",
     "text": [
      "NDCG@1: 0.31944823265075684\n",
      "NDCG@2: 0.3506602644920349\n",
      "NDCG@3: 0.37423399090766907\n",
      "NDCG@4: 0.39595767855644226\n",
      "NDCG@5: 0.41344648599624634\n",
      "NDCG@6: 0.43023455142974854\n",
      "NDCG@7: 0.4457526206970215\n",
      "NDCG@8: 0.4602159857749939\n",
      "NDCG@9: 0.4726872146129608\n",
      "NDCG@10: 0.48477351665496826\n",
      "NDCG@11: 0.4971722364425659\n",
      "NDCG@12: 0.5081313848495483\n",
      "NDCG@13: 0.5196612477302551\n",
      "NDCG@14: 0.5306726694107056\n",
      "NDCG@15: 0.5415663719177246\n",
      "NDCG@16: 0.5518699884414673\n",
      "NDCG@17: 0.5616085529327393\n",
      "NDCG@18: 0.5713207125663757\n",
      "NDCG@19: 0.5808902978897095\n",
      "NDCG@20: 0.5905998945236206\n",
      "NDCG@21: 0.5996828079223633\n",
      "NDCG@22: 0.6085206270217896\n",
      "NDCG@23: 0.6169990301132202\n",
      "NDCG@24: 0.6260000467300415\n",
      "NDCG@25: 0.6350152492523193\n",
      "NDCG@26: 0.643807590007782\n",
      "NDCG@27: 0.6525022983551025\n",
      "NDCG@28: 0.6610872745513916\n",
      "NDCG@29: 0.6696141362190247\n",
      "NDCG@30: 0.6781430244445801\n",
      "NDCG@31: 0.686686635017395\n",
      "NDCG@32: 0.6947803497314453\n",
      "NDCG@33: 0.7029333710670471\n",
      "NDCG@34: 0.711721658706665\n",
      "NDCG@35: 0.7200694680213928\n",
      "NDCG@36: 0.7280833721160889\n",
      "NDCG@37: 0.7366233468055725\n",
      "NDCG@38: 0.7453200221061707\n",
      "NDCG@39: 0.7539271116256714\n",
      "NDCG@40: 0.7630751132965088\n"
     ]
    }
   ],
   "source": [
    "for i in range(1, 41):\n",
    "    ndcg = tfr.keras.metrics.NDCGMetric(topn=i)\n",
    "    print(f\"NDCG@{i}: {ndcg(real_ranks, random_ranks).numpy()}\")"
   ]
  },
  {
   "cell_type": "markdown",
   "id": "edf7042b",
   "metadata": {},
   "source": [
    "Для всего датасета:"
   ]
  },
  {
   "cell_type": "code",
   "execution_count": 62,
   "id": "73e85b12",
   "metadata": {},
   "outputs": [
    {
     "name": "stdout",
     "output_type": "stream",
     "text": [
      "NDCG@1: 0.27741721272468567\n",
      "NDCG@2: 0.303310364484787\n",
      "NDCG@3: 0.32507145404815674\n",
      "NDCG@4: 0.3434201180934906\n",
      "NDCG@5: 0.3600502014160156\n",
      "NDCG@6: 0.3761254549026489\n",
      "NDCG@7: 0.39083534479141235\n",
      "NDCG@8: 0.4047471880912781\n",
      "NDCG@9: 0.4179899990558624\n",
      "NDCG@10: 0.43005138635635376\n",
      "NDCG@11: 0.44192999601364136\n",
      "NDCG@12: 0.4535923898220062\n",
      "NDCG@13: 0.4647643268108368\n",
      "NDCG@14: 0.4757555425167084\n",
      "NDCG@15: 0.48630157113075256\n",
      "NDCG@16: 0.4966924786567688\n",
      "NDCG@17: 0.5067606568336487\n",
      "NDCG@18: 0.5164785385131836\n",
      "NDCG@19: 0.5263077020645142\n",
      "NDCG@20: 0.5360348224639893\n",
      "NDCG@21: 0.5454726219177246\n",
      "NDCG@22: 0.5549251437187195\n",
      "NDCG@23: 0.5642771124839783\n",
      "NDCG@24: 0.5732648968696594\n",
      "NDCG@25: 0.5825837850570679\n",
      "NDCG@26: 0.5915178060531616\n",
      "NDCG@27: 0.60047447681427\n",
      "NDCG@28: 0.6096016764640808\n",
      "NDCG@29: 0.6185185313224792\n",
      "NDCG@30: 0.6272718906402588\n",
      "NDCG@31: 0.636314332485199\n",
      "NDCG@32: 0.6452332735061646\n",
      "NDCG@33: 0.6542215943336487\n",
      "NDCG@34: 0.663281261920929\n",
      "NDCG@35: 0.6723036170005798\n",
      "NDCG@36: 0.6814430356025696\n",
      "NDCG@37: 0.6906871199607849\n",
      "NDCG@38: 0.6999668478965759\n",
      "NDCG@39: 0.7092713117599487\n",
      "NDCG@40: 0.7186993360519409\n"
     ]
    }
   ],
   "source": [
    "for i in range(1, 41):\n",
    "    ndcg = tfr.keras.metrics.NDCGMetric(topn=i)\n",
    "    print(f\"NDCG@{i}: {ndcg(real_ranks, random_ranks).numpy()}\")"
   ]
  },
  {
   "cell_type": "markdown",
   "id": "27aa9d1e",
   "metadata": {},
   "source": [
    "Подмешиваем какой-то процент случайных рангов в настоящие, считаем NDCG"
   ]
  },
  {
   "cell_type": "code",
   "execution_count": 39,
   "id": "eeaf037a",
   "metadata": {},
   "outputs": [],
   "source": [
    "real_ranks = np.array(pd.DataFrame(real_ranks).sample(frac=1))"
   ]
  },
  {
   "cell_type": "code",
   "execution_count": 40,
   "id": "2a16bcb4",
   "metadata": {},
   "outputs": [],
   "source": [
    "random_ranks = np.array(pd.DataFrame(random_ranks).sample(frac=1))"
   ]
  },
  {
   "cell_type": "code",
   "execution_count": 41,
   "id": "fb3779f0",
   "metadata": {},
   "outputs": [
    {
     "name": "stdout",
     "output_type": "stream",
     "text": [
      "(2162, 40)\n",
      "(2162, 40)\n"
     ]
    }
   ],
   "source": [
    "print(np.array(real_ranks).shape)\n",
    "print(np.array(random_ranks).shape)"
   ]
  },
  {
   "cell_type": "code",
   "execution_count": 42,
   "id": "f683546a",
   "metadata": {},
   "outputs": [
    {
     "name": "stdout",
     "output_type": "stream",
     "text": [
      "Percentage: 0.0\n",
      "NDCG@1: 1.0\n",
      "NDCG@3: 1.0\n",
      "NDCG@5: 1.0\n",
      "NDCG@10: 1.0\n",
      "NDCG@40: 1.0\n",
      "Percentage: 10.0\n",
      "NDCG@1: 0.9030899405479431\n",
      "NDCG@3: 0.926919162273407\n",
      "NDCG@5: 0.9280373454093933\n",
      "NDCG@10: 0.9419649243354797\n",
      "NDCG@40: 0.9709725379943848\n",
      "Percentage: 20.0\n",
      "NDCG@1: 0.8128920793533325\n",
      "NDCG@3: 0.8536324501037598\n",
      "NDCG@5: 0.8589550852775574\n",
      "NDCG@10: 0.8848013281822205\n",
      "NDCG@40: 0.9425324201583862\n",
      "Percentage: 25.0\n",
      "NDCG@1: 0.7711101174354553\n",
      "NDCG@3: 0.8189769387245178\n",
      "NDCG@5: 0.826300323009491\n",
      "NDCG@10: 0.8572250008583069\n",
      "NDCG@40: 0.9293316602706909\n",
      "Percentage: 30.0\n",
      "NDCG@1: 0.7301534414291382\n",
      "NDCG@3: 0.7832774519920349\n",
      "NDCG@5: 0.7936449646949768\n",
      "NDCG@10: 0.8292310833930969\n",
      "NDCG@40: 0.9156654477119446\n",
      "Percentage: 50.0\n",
      "NDCG@1: 0.5819336175918579\n",
      "NDCG@3: 0.6533886790275574\n",
      "NDCG@5: 0.6731239557266235\n",
      "NDCG@10: 0.7238375544548035\n",
      "NDCG@40: 0.8658838868141174\n",
      "Percentage: 100.0\n",
      "NDCG@1: 0.3173888325691223\n",
      "NDCG@3: 0.3737831711769104\n",
      "NDCG@5: 0.4128538966178894\n",
      "NDCG@10: 0.4847838878631592\n",
      "NDCG@40: 0.7634375095367432\n"
     ]
    }
   ],
   "source": [
    "import random\n",
    "percentage = [0., 10., 20., 25., 30., 50., 100.]\n",
    "\n",
    "for p in percentage:\n",
    "    target_ranks = []\n",
    "    predicted_ranks = []\n",
    "    for i, (real, rand) in enumerate(zip(real_ranks, random_ranks)): \n",
    "        for i in range(10):  \n",
    "            nice = [] \n",
    "            for g, b in zip(real_ranks[(i + 1) // len(real_ranks)], rand):\n",
    "                n = random.random()    \n",
    "                if n >= p / 100.:\n",
    "                    nice.append(g)\n",
    "                else:\n",
    "                    nice.append(b) \n",
    "            predicted_ranks.append(nice)\n",
    "            target_ranks.append(real)\n",
    "\n",
    "    ndcg = tfr.keras.metrics.NDCGMetric()\n",
    "    print(f\"Percentage: {p}\")\n",
    "    for i in [1, 3, 5, 10, 40]:\n",
    "        ndcg = tfr.keras.metrics.NDCGMetric(topn=i)\n",
    "        print(f\"NDCG@{i}: {ndcg(target_ranks, predicted_ranks).numpy()}\")"
   ]
  },
  {
   "cell_type": "markdown",
   "id": "b1b9eb6c",
   "metadata": {},
   "source": [
    "Для всего датасета"
   ]
  },
  {
   "cell_type": "code",
   "execution_count": 40,
   "id": "c607da2b",
   "metadata": {
    "scrolled": true
   },
   "outputs": [
    {
     "name": "stdout",
     "output_type": "stream",
     "text": [
      "Percentage: 0.0\n",
      "NDCG@1: 1.0\n",
      "NDCG@3: 1.0\n",
      "NDCG@5: 1.0\n",
      "NDCG@10: 1.0\n",
      "NDCG@40: 1.0\n",
      "Percentage: 10.0\n",
      "NDCG@1: 0.7496519684791565\n",
      "NDCG@3: 0.834526002407074\n",
      "NDCG@5: 0.8668624758720398\n",
      "NDCG@10: 0.8979381322860718\n",
      "NDCG@40: 0.9390802383422852\n",
      "Percentage: 20.0\n",
      "NDCG@1: 0.5768909454345703\n",
      "NDCG@3: 0.7048552632331848\n",
      "NDCG@5: 0.7554416060447693\n",
      "NDCG@10: 0.8117515444755554\n",
      "NDCG@40: 0.8898542523384094\n",
      "Percentage: 25.0\n",
      "NDCG@1: 0.5121918320655823\n",
      "NDCG@3: 0.649610161781311\n",
      "NDCG@5: 0.7060869932174683\n",
      "NDCG@10: 0.772880494594574\n",
      "NDCG@40: 0.8685073256492615\n",
      "Percentage: 30.0\n",
      "NDCG@1: 0.4576380252838135\n",
      "NDCG@3: 0.5997496247291565\n",
      "NDCG@5: 0.6610116362571716\n",
      "NDCG@10: 0.7365870475769043\n",
      "NDCG@40: 0.8490076661109924\n",
      "Percentage: 50.0\n",
      "NDCG@1: 0.3358527719974518\n",
      "NDCG@3: 0.45553356409072876\n",
      "NDCG@5: 0.5236450433731079\n",
      "NDCG@10: 0.6170800924301147\n",
      "NDCG@40: 0.7898462414741516\n",
      "Percentage: 100.0\n",
      "NDCG@1: 0.2747800052165985\n",
      "NDCG@3: 0.3228565752506256\n",
      "NDCG@5: 0.35969698429107666\n",
      "NDCG@10: 0.4283210337162018\n",
      "NDCG@40: 0.7180346250534058\n"
     ]
    }
   ],
   "source": [
    "import random\n",
    "percentage = [0., 10., 20., 25., 30., 50., 100.]\n",
    "\n",
    "for p in percentage:\n",
    "    target_ranks = []\n",
    "    predicted_ranks = []\n",
    "    for i, (real, rand) in enumerate(zip(real_ranks, random_ranks)): \n",
    "        for i in range(10):  \n",
    "            nice = [] \n",
    "            for g, b in zip(real_ranks[(i + 1) // len(real_ranks)], rand):\n",
    "                n = random.random()    \n",
    "                if n >= p / 100.:\n",
    "                    nice.append(g)\n",
    "                else:\n",
    "                    nice.append(b) \n",
    "            predicted_ranks.append(nice)\n",
    "            target_ranks.append(real)\n",
    "\n",
    "    ndcg = tfr.keras.metrics.NDCGMetric()\n",
    "    print(f\"Percentage: {p}\")\n",
    "    for i in [1, 3, 5, 10, 40]:\n",
    "        ndcg = tfr.keras.metrics.NDCGMetric(topn=i)\n",
    "        print(f\"NDCG@{i}: {ndcg(target_ranks, predicted_ranks).numpy()}\")"
   ]
  },
  {
   "cell_type": "markdown",
   "id": "9c2113b9",
   "metadata": {},
   "source": [
    "### Разбиваем на train и test"
   ]
  },
  {
   "cell_type": "code",
   "execution_count": 66,
   "id": "6b395a94",
   "metadata": {},
   "outputs": [],
   "source": [
    "from sklearn.model_selection import GroupShuffleSplit"
   ]
  },
  {
   "cell_type": "code",
   "execution_count": 67,
   "id": "64ed7f1a",
   "metadata": {},
   "outputs": [],
   "source": [
    "gss = GroupShuffleSplit(test_size=.33, n_splits=1, random_state = 7).split(metadata_parsed, groups=metadata_parsed['category_id'])\n",
    "\n",
    "X_train_inds, X_test_inds = next(gss)\n",
    "\n",
    "train_data = metadata_parsed.iloc[X_train_inds]\n",
    "test_data = metadata_parsed.iloc[X_test_inds]"
   ]
  },
  {
   "cell_type": "code",
   "execution_count": 68,
   "id": "75e13d88",
   "metadata": {},
   "outputs": [],
   "source": [
    "# train_data.to_csv('train_with_images.csv', index=False)\n",
    "train_data.to_csv('train_with_images_small.csv', index=False)"
   ]
  },
  {
   "cell_type": "code",
   "execution_count": 69,
   "id": "d40957e2",
   "metadata": {},
   "outputs": [],
   "source": [
    "# test_data.to_csv('test_with_images.csv', index=False)\n",
    "test_data.to_csv('test_with_images_small.csv', index=False)"
   ]
  },
  {
   "cell_type": "code",
   "execution_count": 70,
   "id": "946cf3a3",
   "metadata": {},
   "outputs": [],
   "source": [
    "# test_data = pd.read_csv('test_with_images.csv')\n",
    "test_data = pd.read_csv('test_with_images_small.csv')"
   ]
  },
  {
   "cell_type": "code",
   "execution_count": 71,
   "id": "0ab7478e",
   "metadata": {},
   "outputs": [
    {
     "data": {
      "text/plain": [
       "(16654, 16)"
      ]
     },
     "execution_count": 71,
     "metadata": {},
     "output_type": "execute_result"
    }
   ],
   "source": [
    "test_data.shape"
   ]
  },
  {
   "cell_type": "markdown",
   "id": "34d0f1c6",
   "metadata": {},
   "source": [
    "### Отдельно eval-датасет: отличается от test только тем, что товары лежат сразу в отсортированном по рангу виде, для удобства "
   ]
  },
  {
   "cell_type": "code",
   "execution_count": 72,
   "id": "e157fd8a",
   "metadata": {},
   "outputs": [
    {
     "data": {
      "text/plain": [
       "581"
      ]
     },
     "execution_count": 72,
     "metadata": {},
     "output_type": "execute_result"
    }
   ],
   "source": [
    "len(set(test_data.category_id))"
   ]
  },
  {
   "cell_type": "code",
   "execution_count": 73,
   "id": "e2b1256b",
   "metadata": {},
   "outputs": [],
   "source": [
    "eval_categories = []\n",
    "\n",
    "for i in set(test_data.category_id):\n",
    "    l = test_data[test_data['category_id'] == i].sort_values(by='rank').sample(frac=1)\n",
    "    assert l.shape[0] <= 40\n",
    "    eval_categories.append(l)    \n",
    "eval_data = pd.concat(eval_categories)"
   ]
  },
  {
   "cell_type": "code",
   "execution_count": 74,
   "id": "4b91ae2e",
   "metadata": {},
   "outputs": [
    {
     "data": {
      "text/plain": [
       "581"
      ]
     },
     "execution_count": 74,
     "metadata": {},
     "output_type": "execute_result"
    }
   ],
   "source": [
    "len(set(eval_data.category_id))"
   ]
  },
  {
   "cell_type": "code",
   "execution_count": 75,
   "id": "5b10c8b5",
   "metadata": {},
   "outputs": [
    {
     "data": {
      "text/plain": [
       "(16654, 16)"
      ]
     },
     "execution_count": 75,
     "metadata": {},
     "output_type": "execute_result"
    }
   ],
   "source": [
    "eval_data.shape"
   ]
  },
  {
   "cell_type": "code",
   "execution_count": 76,
   "id": "e1cd0f83",
   "metadata": {},
   "outputs": [],
   "source": [
    "# eval_data.to_csv('eval_with_images.csv', index=False)\n",
    "eval_data.to_csv('eval_with_images_small.csv', index=False)"
   ]
  },
  {
   "cell_type": "code",
   "execution_count": 77,
   "id": "e49bfdfc",
   "metadata": {},
   "outputs": [
    {
     "data": {
      "text/html": [
       "<div>\n",
       "<style scoped>\n",
       "    .dataframe tbody tr th:only-of-type {\n",
       "        vertical-align: middle;\n",
       "    }\n",
       "\n",
       "    .dataframe tbody tr th {\n",
       "        vertical-align: top;\n",
       "    }\n",
       "\n",
       "    .dataframe thead th {\n",
       "        text-align: right;\n",
       "    }\n",
       "</style>\n",
       "<table border=\"1\" class=\"dataframe\">\n",
       "  <thead>\n",
       "    <tr style=\"text-align: right;\">\n",
       "      <th></th>\n",
       "      <th>rank</th>\n",
       "      <th>category</th>\n",
       "      <th>description</th>\n",
       "      <th>title</th>\n",
       "      <th>brand</th>\n",
       "      <th>feature</th>\n",
       "      <th>price</th>\n",
       "      <th>asin</th>\n",
       "      <th>images</th>\n",
       "      <th>imagesHighRes</th>\n",
       "      <th>category_id</th>\n",
       "      <th>rank_scaled</th>\n",
       "      <th>image_count</th>\n",
       "      <th>image_url_high_res</th>\n",
       "      <th>category_rank</th>\n",
       "      <th>category_id_batched</th>\n",
       "    </tr>\n",
       "  </thead>\n",
       "  <tbody>\n",
       "    <tr>\n",
       "      <th>5992</th>\n",
       "      <td>158413.0</td>\n",
       "      <td>Electronics &gt; Accessories &amp; Supplies &gt; Cables</td>\n",
       "      <td>\"Due to popular demand, Mimo Monitors has desi...</td>\n",
       "      <td>Mimo Monitors USB/power cable - 15 for P/N: TO...</td>\n",
       "      <td>Mimo</td>\n",
       "      <td>Cable Features: Molded, Length: 15 ft., Connec...</td>\n",
       "      <td>19.99</td>\n",
       "      <td>B00CEHKM7I</td>\n",
       "      <td>[]</td>\n",
       "      <td>[]</td>\n",
       "      <td>8620032</td>\n",
       "      <td>0.800206</td>\n",
       "      <td>0</td>\n",
       "      <td>NaN</td>\n",
       "      <td>1293</td>\n",
       "      <td>32</td>\n",
       "    </tr>\n",
       "    <tr>\n",
       "      <th>5996</th>\n",
       "      <td>166711.0</td>\n",
       "      <td>Electronics &gt; Accessories &amp; Supplies &gt; Cables</td>\n",
       "      <td>This professional quality AIR802 CA195 antenna...</td>\n",
       "      <td>AIR802 CA195 Black Cable, RP-SMA Plug-Male to ...</td>\n",
       "      <td>AIR802</td>\n",
       "      <td>AIR802 CA195 Cable (Equivalent to LMR 195), RP...</td>\n",
       "      <td>13.05</td>\n",
       "      <td>B009S8ZY8S</td>\n",
       "      <td>[]</td>\n",
       "      <td>[]</td>\n",
       "      <td>8620032</td>\n",
       "      <td>0.778032</td>\n",
       "      <td>0</td>\n",
       "      <td>NaN</td>\n",
       "      <td>1297</td>\n",
       "      <td>32</td>\n",
       "    </tr>\n",
       "    <tr>\n",
       "      <th>5993</th>\n",
       "      <td>115020.0</td>\n",
       "      <td>Electronics &gt; Accessories &amp; Supplies &gt; Cables</td>\n",
       "      <td>Quantity: 4pcs\\nTitanize treatment for the sur...</td>\n",
       "      <td>Vktech 4PCS RCA Plug Audio Video Locking Cable...</td>\n",
       "      <td>Vktech</td>\n",
       "      <td>RCA plug connector for audio video cable, Prof...</td>\n",
       "      <td>3.89</td>\n",
       "      <td>B00D5Q7X9M</td>\n",
       "      <td>['https://images-na.ssl-images-amazon.com/imag...</td>\n",
       "      <td>['https://images-na.ssl-images-amazon.com/imag...</td>\n",
       "      <td>8620032</td>\n",
       "      <td>0.939223</td>\n",
       "      <td>6</td>\n",
       "      <td>images_high_res_small/413kXr0fkDL.jpg</td>\n",
       "      <td>1294</td>\n",
       "      <td>32</td>\n",
       "    </tr>\n",
       "    <tr>\n",
       "      <th>6018</th>\n",
       "      <td>108795.0</td>\n",
       "      <td>Electronics &gt; Accessories &amp; Supplies &gt; Cables</td>\n",
       "      <td>\"The dCables® USB Cable for the Canon PowerSho...</td>\n",
       "      <td>dCables Canon PowerShot ELPH 130 IS USB Cable ...</td>\n",
       "      <td>dCables</td>\n",
       "      <td>Use this cable to download images from the Can...</td>\n",
       "      <td>5.75</td>\n",
       "      <td>B00B00UCTI</td>\n",
       "      <td>[]</td>\n",
       "      <td>[]</td>\n",
       "      <td>8620032</td>\n",
       "      <td>0.963388</td>\n",
       "      <td>0</td>\n",
       "      <td>NaN</td>\n",
       "      <td>1319</td>\n",
       "      <td>32</td>\n",
       "    </tr>\n",
       "    <tr>\n",
       "      <th>6002</th>\n",
       "      <td>204238.0</td>\n",
       "      <td>Electronics &gt; Accessories &amp; Supplies &gt; Cables</td>\n",
       "      <td>Keystone Snap-in Cat.6 couplers provide a full...</td>\n",
       "      <td>RJ45 Female to Female UTP CAT.6 Keystone Coupl...</td>\n",
       "      <td>iMBAPrice</td>\n",
       "      <td>For use with Cat.6 Ethernet cables / Backward ...</td>\n",
       "      <td>77.99</td>\n",
       "      <td>B00BJP18MY</td>\n",
       "      <td>['https://images-na.ssl-images-amazon.com/imag...</td>\n",
       "      <td>['https://images-na.ssl-images-amazon.com/imag...</td>\n",
       "      <td>8620032</td>\n",
       "      <td>0.689860</td>\n",
       "      <td>4</td>\n",
       "      <td>images_high_res_small/21LLjk25IdL.jpg</td>\n",
       "      <td>1303</td>\n",
       "      <td>32</td>\n",
       "    </tr>\n",
       "  </tbody>\n",
       "</table>\n",
       "</div>"
      ],
      "text/plain": [
       "          rank                                       category  \\\n",
       "5992  158413.0  Electronics > Accessories & Supplies > Cables   \n",
       "5996  166711.0  Electronics > Accessories & Supplies > Cables   \n",
       "5993  115020.0  Electronics > Accessories & Supplies > Cables   \n",
       "6018  108795.0  Electronics > Accessories & Supplies > Cables   \n",
       "6002  204238.0  Electronics > Accessories & Supplies > Cables   \n",
       "\n",
       "                                            description  \\\n",
       "5992  \"Due to popular demand, Mimo Monitors has desi...   \n",
       "5996  This professional quality AIR802 CA195 antenna...   \n",
       "5993  Quantity: 4pcs\\nTitanize treatment for the sur...   \n",
       "6018  \"The dCables® USB Cable for the Canon PowerSho...   \n",
       "6002  Keystone Snap-in Cat.6 couplers provide a full...   \n",
       "\n",
       "                                                  title      brand  \\\n",
       "5992  Mimo Monitors USB/power cable - 15 for P/N: TO...       Mimo   \n",
       "5996  AIR802 CA195 Black Cable, RP-SMA Plug-Male to ...     AIR802   \n",
       "5993  Vktech 4PCS RCA Plug Audio Video Locking Cable...     Vktech   \n",
       "6018  dCables Canon PowerShot ELPH 130 IS USB Cable ...    dCables   \n",
       "6002  RJ45 Female to Female UTP CAT.6 Keystone Coupl...  iMBAPrice   \n",
       "\n",
       "                                                feature  price        asin  \\\n",
       "5992  Cable Features: Molded, Length: 15 ft., Connec...  19.99  B00CEHKM7I   \n",
       "5996  AIR802 CA195 Cable (Equivalent to LMR 195), RP...  13.05  B009S8ZY8S   \n",
       "5993  RCA plug connector for audio video cable, Prof...   3.89  B00D5Q7X9M   \n",
       "6018  Use this cable to download images from the Can...   5.75  B00B00UCTI   \n",
       "6002  For use with Cat.6 Ethernet cables / Backward ...  77.99  B00BJP18MY   \n",
       "\n",
       "                                                 images  \\\n",
       "5992                                                 []   \n",
       "5996                                                 []   \n",
       "5993  ['https://images-na.ssl-images-amazon.com/imag...   \n",
       "6018                                                 []   \n",
       "6002  ['https://images-na.ssl-images-amazon.com/imag...   \n",
       "\n",
       "                                          imagesHighRes  category_id  \\\n",
       "5992                                                 []      8620032   \n",
       "5996                                                 []      8620032   \n",
       "5993  ['https://images-na.ssl-images-amazon.com/imag...      8620032   \n",
       "6018                                                 []      8620032   \n",
       "6002  ['https://images-na.ssl-images-amazon.com/imag...      8620032   \n",
       "\n",
       "      rank_scaled  image_count                     image_url_high_res  \\\n",
       "5992     0.800206            0                                    NaN   \n",
       "5996     0.778032            0                                    NaN   \n",
       "5993     0.939223            6  images_high_res_small/413kXr0fkDL.jpg   \n",
       "6018     0.963388            0                                    NaN   \n",
       "6002     0.689860            4  images_high_res_small/21LLjk25IdL.jpg   \n",
       "\n",
       "      category_rank  category_id_batched  \n",
       "5992           1293                   32  \n",
       "5996           1297                   32  \n",
       "5993           1294                   32  \n",
       "6018           1319                   32  \n",
       "6002           1303                   32  "
      ]
     },
     "execution_count": 77,
     "metadata": {},
     "output_type": "execute_result"
    }
   ],
   "source": [
    "eval_data.head()"
   ]
  }
 ],
 "metadata": {
  "kernelspec": {
   "display_name": "Python 3 (ipykernel)",
   "language": "python",
   "name": "python3"
  },
  "language_info": {
   "codemirror_mode": {
    "name": "ipython",
    "version": 3
   },
   "file_extension": ".py",
   "mimetype": "text/x-python",
   "name": "python",
   "nbconvert_exporter": "python",
   "pygments_lexer": "ipython3",
   "version": "3.10.3"
  }
 },
 "nbformat": 4,
 "nbformat_minor": 5
}
