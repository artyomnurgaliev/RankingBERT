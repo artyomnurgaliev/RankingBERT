{
 "cells": [
  {
   "cell_type": "code",
   "execution_count": 2,
   "id": "3529aa1d",
   "metadata": {
    "id": "3529aa1d"
   },
   "outputs": [],
   "source": [
    "import pandas as pd\n",
    "import gzip\n",
    "import json\n",
    "import seaborn as sns\n",
    "import numpy as np\n",
    "import time\n",
    "import html\n",
    "import re\n",
    "from tqdm import trange\n",
    "import os\n",
    "from typing import *\n",
    "from tqdm import tqdm, trange\n",
    "import urllib.request\n",
    "from PIL import Image\n",
    "import cv2 as cv\n",
    "from matplotlib import pyplot as plt"
   ]
  },
  {
   "cell_type": "markdown",
   "id": "9c975f0f",
   "metadata": {},
   "source": [
    "### Предобработка датасета, "
   ]
  },
  {
   "cell_type": "code",
   "execution_count": 3,
   "id": "4476b6ad",
   "metadata": {
    "id": "4476b6ad"
   },
   "outputs": [],
   "source": [
    "from tqdm import tqdm\n",
    "tqdm.pandas()"
   ]
  },
  {
   "cell_type": "code",
   "execution_count": 3,
   "id": "f03793ac",
   "metadata": {
    "id": "f03793ac"
   },
   "outputs": [],
   "source": [
    "def parse(path):\n",
    "    g = gzip.open(path, 'rb')\n",
    "    for l in g:\n",
    "        yield json.loads(l)\n",
    "\n",
    "        \n",
    "def getPandasDataFrame(path, limit=None):\n",
    "    i = 0\n",
    "    df = {}\n",
    "    try:\n",
    "        for d in tqdm(parse(path)):\n",
    "            df[i] = d\n",
    "            i += 1\n",
    "            if limit is not None and i >= limit:\n",
    "                break\n",
    "    except KeyboardInterrupt:\n",
    "        pass\n",
    "    return pd.DataFrame.from_dict(df, orient='index')"
   ]
  },
  {
   "cell_type": "code",
   "execution_count": 7,
   "id": "75ad78bb",
   "metadata": {
    "id": "75ad78bb",
    "outputId": "ca6f548b-7a2c-488a-a80f-c2fc19182b76"
   },
   "outputs": [
    {
     "name": "stderr",
     "output_type": "stream",
     "text": [
      "786445it [12:38, 1037.12it/s]\n"
     ]
    },
    {
     "name": "stdout",
     "output_type": "stream",
     "text": [
      "Wall time: 12min 47s\n"
     ]
    }
   ],
   "source": [
    "%%time\n",
    "meta_electronics = getPandasDataFrame('meta_Electronics.json.gz', limit=None)"
   ]
  },
  {
   "cell_type": "code",
   "execution_count": 92,
   "id": "1ba32c3b",
   "metadata": {},
   "outputs": [
    {
     "data": {
      "text/html": [
       "<div>\n",
       "<style scoped>\n",
       "    .dataframe tbody tr th:only-of-type {\n",
       "        vertical-align: middle;\n",
       "    }\n",
       "\n",
       "    .dataframe tbody tr th {\n",
       "        vertical-align: top;\n",
       "    }\n",
       "\n",
       "    .dataframe thead th {\n",
       "        text-align: right;\n",
       "    }\n",
       "</style>\n",
       "<table border=\"1\" class=\"dataframe\">\n",
       "  <thead>\n",
       "    <tr style=\"text-align: right;\">\n",
       "      <th></th>\n",
       "      <th>category</th>\n",
       "      <th>tech1</th>\n",
       "      <th>description</th>\n",
       "      <th>fit</th>\n",
       "      <th>title</th>\n",
       "      <th>also_buy</th>\n",
       "      <th>tech2</th>\n",
       "      <th>brand</th>\n",
       "      <th>feature</th>\n",
       "      <th>rank</th>\n",
       "      <th>also_view</th>\n",
       "      <th>main_cat</th>\n",
       "      <th>similar_item</th>\n",
       "      <th>date</th>\n",
       "      <th>price</th>\n",
       "      <th>asin</th>\n",
       "      <th>imageURL</th>\n",
       "      <th>imageURLHighRes</th>\n",
       "      <th>details</th>\n",
       "    </tr>\n",
       "  </thead>\n",
       "  <tbody>\n",
       "    <tr>\n",
       "      <th>0</th>\n",
       "      <td>[Electronics, Camera &amp;amp; Photo, Video Survei...</td>\n",
       "      <td></td>\n",
       "      <td>[The following camera brands and models have b...</td>\n",
       "      <td></td>\n",
       "      <td>Genuine Geovision 1 Channel 3rd Party NVR IP S...</td>\n",
       "      <td>[]</td>\n",
       "      <td></td>\n",
       "      <td>GeoVision</td>\n",
       "      <td>[Genuine Geovision 1 Channel NVR IP Software, ...</td>\n",
       "      <td>[&gt;#3,092 in Tools &amp;amp; Home Improvement &amp;gt; ...</td>\n",
       "      <td>[]</td>\n",
       "      <td>Camera &amp;amp; Photo</td>\n",
       "      <td></td>\n",
       "      <td>January 28, 2014</td>\n",
       "      <td>$65.00</td>\n",
       "      <td>0011300000</td>\n",
       "      <td>[https://images-na.ssl-images-amazon.com/image...</td>\n",
       "      <td>[https://images-na.ssl-images-amazon.com/image...</td>\n",
       "      <td>NaN</td>\n",
       "    </tr>\n",
       "    <tr>\n",
       "      <th>1</th>\n",
       "      <td>[Electronics, Camera &amp;amp; Photo]</td>\n",
       "      <td></td>\n",
       "      <td>[This second edition of the Handbook of Astron...</td>\n",
       "      <td></td>\n",
       "      <td>Books \"Handbook of Astronomical Image Processi...</td>\n",
       "      <td>[0999470906]</td>\n",
       "      <td></td>\n",
       "      <td>33 Books Co.</td>\n",
       "      <td>[Detailed chapters cover these fundamental top...</td>\n",
       "      <td>[&gt;#55,933 in Camera &amp;amp; Photo (See Top 100 i...</td>\n",
       "      <td>[0943396670, 1138055360, 0999470906]</td>\n",
       "      <td>Camera &amp;amp; Photo</td>\n",
       "      <td></td>\n",
       "      <td>June 17, 2003</td>\n",
       "      <td></td>\n",
       "      <td>0043396828</td>\n",
       "      <td>[https://images-na.ssl-images-amazon.com/image...</td>\n",
       "      <td>[https://images-na.ssl-images-amazon.com/image...</td>\n",
       "      <td>NaN</td>\n",
       "    </tr>\n",
       "    <tr>\n",
       "      <th>2</th>\n",
       "      <td>[Electronics, eBook Readers &amp;amp; Accessories,...</td>\n",
       "      <td></td>\n",
       "      <td>[A zesty tale. (Publishers Weekly)&lt;br /&gt;&lt;br /&gt;...</td>\n",
       "      <td></td>\n",
       "      <td>One Hot Summer</td>\n",
       "      <td>[0425167798, 039914157X]</td>\n",
       "      <td></td>\n",
       "      <td>Visit Amazon's Carolina Garcia Aguilera Page</td>\n",
       "      <td>[]</td>\n",
       "      <td>3,105,177 in Books (</td>\n",
       "      <td>[]</td>\n",
       "      <td>Books</td>\n",
       "      <td></td>\n",
       "      <td></td>\n",
       "      <td>$11.49</td>\n",
       "      <td>0060009810</td>\n",
       "      <td>[]</td>\n",
       "      <td>[]</td>\n",
       "      <td>NaN</td>\n",
       "    </tr>\n",
       "    <tr>\n",
       "      <th>3</th>\n",
       "      <td>[Electronics, eBook Readers &amp; Accessories, eBo...</td>\n",
       "      <td></td>\n",
       "      <td>[]</td>\n",
       "      <td></td>\n",
       "      <td>Hurray for Hattie Rabbit: Story and pictures (...</td>\n",
       "      <td>[0060219521, 0060219580, 0060219394]</td>\n",
       "      <td></td>\n",
       "      <td>Visit Amazon's Dick Gackenbach Page</td>\n",
       "      <td>[]</td>\n",
       "      <td>2,024,298 in Books (</td>\n",
       "      <td>[0060219521, 0060219475, 0060219394]</td>\n",
       "      <td>Books</td>\n",
       "      <td></td>\n",
       "      <td></td>\n",
       "      <td>.a-section.a-spacing-mini{margin-bottom:6px!im...</td>\n",
       "      <td>0060219602</td>\n",
       "      <td>[]</td>\n",
       "      <td>[]</td>\n",
       "      <td>NaN</td>\n",
       "    </tr>\n",
       "    <tr>\n",
       "      <th>4</th>\n",
       "      <td>[Electronics, eBook Readers &amp; Accessories, eBo...</td>\n",
       "      <td></td>\n",
       "      <td>[&amp;#8220;sex.lies.murder.fame. is brillllli&amp;#82...</td>\n",
       "      <td></td>\n",
       "      <td>sex.lies.murder.fame.: A Novel</td>\n",
       "      <td>[]</td>\n",
       "      <td></td>\n",
       "      <td>Visit Amazon's Lolita Files Page</td>\n",
       "      <td>[]</td>\n",
       "      <td>3,778,828 in Books (</td>\n",
       "      <td>[]</td>\n",
       "      <td>Books</td>\n",
       "      <td></td>\n",
       "      <td></td>\n",
       "      <td>$13.95</td>\n",
       "      <td>0060786817</td>\n",
       "      <td>[]</td>\n",
       "      <td>[]</td>\n",
       "      <td>NaN</td>\n",
       "    </tr>\n",
       "  </tbody>\n",
       "</table>\n",
       "</div>"
      ],
      "text/plain": [
       "                                            category tech1  \\\n",
       "0  [Electronics, Camera &amp; Photo, Video Survei...         \n",
       "1                  [Electronics, Camera &amp; Photo]         \n",
       "2  [Electronics, eBook Readers &amp; Accessories,...         \n",
       "3  [Electronics, eBook Readers & Accessories, eBo...         \n",
       "4  [Electronics, eBook Readers & Accessories, eBo...         \n",
       "\n",
       "                                         description fit  \\\n",
       "0  [The following camera brands and models have b...       \n",
       "1  [This second edition of the Handbook of Astron...       \n",
       "2  [A zesty tale. (Publishers Weekly)<br /><br />...       \n",
       "3                                                 []       \n",
       "4  [&#8220;sex.lies.murder.fame. is brillllli&#82...       \n",
       "\n",
       "                                               title  \\\n",
       "0  Genuine Geovision 1 Channel 3rd Party NVR IP S...   \n",
       "1  Books \"Handbook of Astronomical Image Processi...   \n",
       "2                                     One Hot Summer   \n",
       "3  Hurray for Hattie Rabbit: Story and pictures (...   \n",
       "4                     sex.lies.murder.fame.: A Novel   \n",
       "\n",
       "                               also_buy tech2  \\\n",
       "0                                    []         \n",
       "1                          [0999470906]         \n",
       "2              [0425167798, 039914157X]         \n",
       "3  [0060219521, 0060219580, 0060219394]         \n",
       "4                                    []         \n",
       "\n",
       "                                          brand  \\\n",
       "0                                     GeoVision   \n",
       "1                                  33 Books Co.   \n",
       "2  Visit Amazon's Carolina Garcia Aguilera Page   \n",
       "3           Visit Amazon's Dick Gackenbach Page   \n",
       "4              Visit Amazon's Lolita Files Page   \n",
       "\n",
       "                                             feature  \\\n",
       "0  [Genuine Geovision 1 Channel NVR IP Software, ...   \n",
       "1  [Detailed chapters cover these fundamental top...   \n",
       "2                                                 []   \n",
       "3                                                 []   \n",
       "4                                                 []   \n",
       "\n",
       "                                                rank  \\\n",
       "0  [>#3,092 in Tools &amp; Home Improvement &gt; ...   \n",
       "1  [>#55,933 in Camera &amp; Photo (See Top 100 i...   \n",
       "2                               3,105,177 in Books (   \n",
       "3                               2,024,298 in Books (   \n",
       "4                               3,778,828 in Books (   \n",
       "\n",
       "                              also_view            main_cat similar_item  \\\n",
       "0                                    []  Camera &amp; Photo                \n",
       "1  [0943396670, 1138055360, 0999470906]  Camera &amp; Photo                \n",
       "2                                    []               Books                \n",
       "3  [0060219521, 0060219475, 0060219394]               Books                \n",
       "4                                    []               Books                \n",
       "\n",
       "               date                                              price  \\\n",
       "0  January 28, 2014                                             $65.00   \n",
       "1     June 17, 2003                                                      \n",
       "2                                                               $11.49   \n",
       "3                    .a-section.a-spacing-mini{margin-bottom:6px!im...   \n",
       "4                                                               $13.95   \n",
       "\n",
       "         asin                                           imageURL  \\\n",
       "0  0011300000  [https://images-na.ssl-images-amazon.com/image...   \n",
       "1  0043396828  [https://images-na.ssl-images-amazon.com/image...   \n",
       "2  0060009810                                                 []   \n",
       "3  0060219602                                                 []   \n",
       "4  0060786817                                                 []   \n",
       "\n",
       "                                     imageURLHighRes details  \n",
       "0  [https://images-na.ssl-images-amazon.com/image...     NaN  \n",
       "1  [https://images-na.ssl-images-amazon.com/image...     NaN  \n",
       "2                                                 []     NaN  \n",
       "3                                                 []     NaN  \n",
       "4                                                 []     NaN  "
      ]
     },
     "execution_count": 92,
     "metadata": {},
     "output_type": "execute_result"
    }
   ],
   "source": [
    "meta_electronics.head()"
   ]
  },
  {
   "cell_type": "markdown",
   "id": "73b93db8",
   "metadata": {},
   "source": [
    "### Подготовим датасет"
   ]
  },
  {
   "cell_type": "code",
   "execution_count": 87,
   "id": "5e919b72",
   "metadata": {},
   "outputs": [
    {
     "data": {
      "text/plain": [
       "(742022, 19)"
      ]
     },
     "execution_count": 87,
     "metadata": {},
     "output_type": "execute_result"
    }
   ],
   "source": [
    "meta_electronics = meta_electronics.drop_duplicates('title')\n",
    "meta_electronics.shape"
   ]
  },
  {
   "cell_type": "code",
   "execution_count": 88,
   "id": "df13ab45",
   "metadata": {
    "id": "df13ab45"
   },
   "outputs": [],
   "source": [
    "# функция для обработки pandas-df батчами\n",
    "def map_by_batches(df, func, batch_size = 2000):\n",
    "    batch_results = []\n",
    "    for i in trange(df.shape[0] // batch_size + 1):\n",
    "        l = batch_size * i\n",
    "        r = min(df.shape[0], l + batch_size)\n",
    "        batch_results.append(func(df[l : r]))\n",
    "    return pd.concat(batch_results)"
   ]
  },
  {
   "cell_type": "code",
   "execution_count": 93,
   "id": "440a8e26",
   "metadata": {
    "id": "440a8e26"
   },
   "outputs": [],
   "source": [
    "# парсим категорию и ранг из строки \n",
    "def extract_rank_and_category(data):\n",
    "    rank_str = re.compile(\">#[\\d,]* in \")\n",
    "    \n",
    "    ranks = []\n",
    "    categories = []\n",
    "\n",
    "    description = []\n",
    "    title = []\n",
    "    brand = []\n",
    "    feature = []\n",
    "    price = []\n",
    "    images = []\n",
    "    imagesHighRes = []\n",
    "    asin = []\n",
    "\n",
    "    def extract(string):\n",
    "        result = rank_str.match(string)\n",
    "        if not result:\n",
    "            return -1, \"\"\n",
    "        rank = result.group(0)[2:-4]\n",
    "        category = string[result.span()[1]:] \n",
    "        return int(rank.replace(',', '')), html.unescape(category)\n",
    "    try:\n",
    "        for i in range(data.shape[0]):\n",
    "            string = data.iloc[i]['rank']\n",
    "            if not isinstance(string, str):\n",
    "                if not string:\n",
    "                    continue\n",
    "                else:\n",
    "                    string_list = string\n",
    "                    for string in string_list:\n",
    "                        rank, category = extract(string)\n",
    "                        if rank == -1:\n",
    "                            continue\n",
    "                        ranks.append(rank)\n",
    "                        categories.append(category)\n",
    "                        description.append(data.iloc[i]['description'])\n",
    "                        title.append(data.iloc[i]['title'])\n",
    "                        brand.append(data.iloc[i]['brand'])\n",
    "                        feature.append(data.iloc[i]['feature'])\n",
    "                        price.append(data.iloc[i]['price'])\n",
    "                        asin.append(data.iloc[i]['asin'])\n",
    "                        images.append(data.iloc[i]['imageURL'])\n",
    "                        imagesHighRes.append(data.iloc[i]['imageURLHighRes'])\n",
    "            else:\n",
    "                rank, category = extract(string)\n",
    "                if rank == -1:\n",
    "                    continue\n",
    "                ranks.append(rank)\n",
    "                categories.append(category)\n",
    "                description.append(data.iloc[i]['description'])\n",
    "                title.append(data.iloc[i]['title'])\n",
    "                brand.append(data.iloc[i]['brand'])\n",
    "                feature.append(data.iloc[i]['feature'])\n",
    "                price.append(data.iloc[i]['price'])\n",
    "                asin.append(data.iloc[i]['asin'])\n",
    "                images.append(data.iloc[i]['imageURL'])\n",
    "                imagesHighRes.append(data.iloc[i]['imageURLHighRes'])\n",
    "    except KeyboardInterrupt:\n",
    "        pass\n",
    "\n",
    "    df = pd.DataFrame({'rank':np.array(ranks), 'category':np.array(categories), \n",
    "                                      'description':np.array(description), 'title':np.array(title),\n",
    "                                      'brand':np.array(brand), 'feature':np.array(feature),\n",
    "                                      'price':np.array(price),\n",
    "                                      'asin': np.array(asin),\n",
    "                                      'images': np.array(images),\n",
    "                                      'imagesHighRes': np.array(imagesHighRes),\n",
    "                                     }, dtype=object)\n",
    "    return df"
   ]
  },
  {
   "cell_type": "code",
   "execution_count": 94,
   "id": "5c6c4aef",
   "metadata": {},
   "outputs": [
    {
     "data": {
      "text/plain": [
       "(291809, 19)"
      ]
     },
     "execution_count": 94,
     "metadata": {},
     "output_type": "execute_result"
    }
   ],
   "source": [
    "meta_electronics_with_prices = meta_electronics[meta_electronics['price'] != '']\n",
    "meta_electronics_with_prices.shape"
   ]
  },
  {
   "cell_type": "code",
   "execution_count": 95,
   "id": "ce71f5f3",
   "metadata": {},
   "outputs": [],
   "source": [
    "def simple_filter(df):\n",
    "    df = df[df['price'] != '']\n",
    "    df = df.drop_duplicates('title')\n",
    "    print(df.shape)\n",
    "    return df"
   ]
  },
  {
   "cell_type": "code",
   "execution_count": 100,
   "id": "1e75c116",
   "metadata": {},
   "outputs": [
    {
     "name": "stderr",
     "output_type": "stream",
     "text": [
      "302988it [01:22, 3683.56it/s]\n"
     ]
    },
    {
     "name": "stdout",
     "output_type": "stream",
     "text": [
      "(182572, 19)\n",
      "Wall time: 1min 27s\n"
     ]
    }
   ],
   "source": [
    "%%time\n",
    "meta_Arts_Crafts_and_Sewing = getPandasDataFrame('meta_Arts_Crafts_and_Sewing.json.gz', limit=None)\n",
    "meta_Arts_Crafts_and_Sewing = simple_filter(meta_Arts_Crafts_and_Sewing)"
   ]
  },
  {
   "cell_type": "code",
   "execution_count": 101,
   "id": "c156ffd8",
   "metadata": {},
   "outputs": [
    {
     "name": "stderr",
     "output_type": "stream",
     "text": [
      "  0%|          | 0/15 [00:00<?, ?it/s]C:\\Users\\artyo\\AppData\\Local\\Temp/ipykernel_8992/1701605967.py:63: VisibleDeprecationWarning: Creating an ndarray from ragged nested sequences (which is a list-or-tuple of lists-or-tuples-or ndarrays with different lengths or shapes) is deprecated. If you meant to do this, you must specify 'dtype=object' when creating the ndarray.\n",
      "  'description':np.array(description), 'title':np.array(title),\n",
      "C:\\Users\\artyo\\AppData\\Local\\Temp/ipykernel_8992/1701605967.py:64: VisibleDeprecationWarning: Creating an ndarray from ragged nested sequences (which is a list-or-tuple of lists-or-tuples-or ndarrays with different lengths or shapes) is deprecated. If you meant to do this, you must specify 'dtype=object' when creating the ndarray.\n",
      "  'brand':np.array(brand), 'feature':np.array(feature),\n",
      "C:\\Users\\artyo\\AppData\\Local\\Temp/ipykernel_8992/1701605967.py:67: VisibleDeprecationWarning: Creating an ndarray from ragged nested sequences (which is a list-or-tuple of lists-or-tuples-or ndarrays with different lengths or shapes) is deprecated. If you meant to do this, you must specify 'dtype=object' when creating the ndarray.\n",
      "  'images': np.array(images),\n",
      "C:\\Users\\artyo\\AppData\\Local\\Temp/ipykernel_8992/1701605967.py:68: VisibleDeprecationWarning: Creating an ndarray from ragged nested sequences (which is a list-or-tuple of lists-or-tuples-or ndarrays with different lengths or shapes) is deprecated. If you meant to do this, you must specify 'dtype=object' when creating the ndarray.\n",
      "  'imagesHighRes': np.array(imagesHighRes),\n",
      "100%|██████████| 15/15 [03:29<00:00, 13.99s/it]\n"
     ]
    }
   ],
   "source": [
    "meta_electronics_clear = map_by_batches(meta_electronics_with_prices, extract_rank_and_category, batch_size = 20000)"
   ]
  },
  {
   "cell_type": "code",
   "execution_count": 102,
   "id": "f6ecd098",
   "metadata": {},
   "outputs": [
    {
     "name": "stderr",
     "output_type": "stream",
     "text": [
      "  0%|          | 0/10 [00:00<?, ?it/s]C:\\Users\\artyo\\AppData\\Local\\Temp/ipykernel_8992/1701605967.py:63: VisibleDeprecationWarning: Creating an ndarray from ragged nested sequences (which is a list-or-tuple of lists-or-tuples-or ndarrays with different lengths or shapes) is deprecated. If you meant to do this, you must specify 'dtype=object' when creating the ndarray.\n",
      "  'description':np.array(description), 'title':np.array(title),\n",
      "C:\\Users\\artyo\\AppData\\Local\\Temp/ipykernel_8992/1701605967.py:64: VisibleDeprecationWarning: Creating an ndarray from ragged nested sequences (which is a list-or-tuple of lists-or-tuples-or ndarrays with different lengths or shapes) is deprecated. If you meant to do this, you must specify 'dtype=object' when creating the ndarray.\n",
      "  'brand':np.array(brand), 'feature':np.array(feature),\n",
      "C:\\Users\\artyo\\AppData\\Local\\Temp/ipykernel_8992/1701605967.py:67: VisibleDeprecationWarning: Creating an ndarray from ragged nested sequences (which is a list-or-tuple of lists-or-tuples-or ndarrays with different lengths or shapes) is deprecated. If you meant to do this, you must specify 'dtype=object' when creating the ndarray.\n",
      "  'images': np.array(images),\n",
      "C:\\Users\\artyo\\AppData\\Local\\Temp/ipykernel_8992/1701605967.py:68: VisibleDeprecationWarning: Creating an ndarray from ragged nested sequences (which is a list-or-tuple of lists-or-tuples-or ndarrays with different lengths or shapes) is deprecated. If you meant to do this, you must specify 'dtype=object' when creating the ndarray.\n",
      "  'imagesHighRes': np.array(imagesHighRes),\n",
      "100%|██████████| 10/10 [02:37<00:00, 15.78s/it]\n"
     ]
    }
   ],
   "source": [
    "meta_Arts_Crafts_and_Sewing = map_by_batches(meta_Arts_Crafts_and_Sewing, extract_rank_and_category, batch_size = 20000)"
   ]
  },
  {
   "cell_type": "code",
   "execution_count": 157,
   "id": "606fc230",
   "metadata": {},
   "outputs": [],
   "source": [
    "metadata_clear = pd.concat([meta_Arts_Crafts_and_Sewing, meta_electronics_clear])"
   ]
  },
  {
   "cell_type": "code",
   "execution_count": 159,
   "id": "a2bcea3f",
   "metadata": {
    "id": "a2bcea3f",
    "outputId": "2bb07c1a-23b8-45e0-8696-b0dcaed062b8"
   },
   "outputs": [
    {
     "data": {
      "text/plain": [
       "(879794, 10)"
      ]
     },
     "execution_count": 159,
     "metadata": {},
     "output_type": "execute_result"
    }
   ],
   "source": [
    "metadata_clear.shape"
   ]
  },
  {
   "cell_type": "code",
   "execution_count": 160,
   "id": "619bef12",
   "metadata": {
    "id": "619bef12",
    "outputId": "1692766a-4e74-4206-cce5-dd4dde03608d"
   },
   "outputs": [
    {
     "data": {
      "text/html": [
       "<div>\n",
       "<style scoped>\n",
       "    .dataframe tbody tr th:only-of-type {\n",
       "        vertical-align: middle;\n",
       "    }\n",
       "\n",
       "    .dataframe tbody tr th {\n",
       "        vertical-align: top;\n",
       "    }\n",
       "\n",
       "    .dataframe thead th {\n",
       "        text-align: right;\n",
       "    }\n",
       "</style>\n",
       "<table border=\"1\" class=\"dataframe\">\n",
       "  <thead>\n",
       "    <tr style=\"text-align: right;\">\n",
       "      <th></th>\n",
       "      <th>rank</th>\n",
       "      <th>category</th>\n",
       "      <th>description</th>\n",
       "      <th>title</th>\n",
       "      <th>brand</th>\n",
       "      <th>feature</th>\n",
       "      <th>price</th>\n",
       "      <th>asin</th>\n",
       "      <th>images</th>\n",
       "      <th>imagesHighRes</th>\n",
       "    </tr>\n",
       "  </thead>\n",
       "  <tbody>\n",
       "    <tr>\n",
       "      <th>0</th>\n",
       "      <td>9616321</td>\n",
       "      <td>Home &amp; Kitchen (See Top 100 in Home &amp; Kitchen)</td>\n",
       "      <td>[]</td>\n",
       "      <td>Pinkie Tm girl flower Handmade soap silicone m...</td>\n",
       "      <td></td>\n",
       "      <td>[]</td>\n",
       "      <td>$35.00</td>\n",
       "      <td>7121277158</td>\n",
       "      <td>[https://images-na.ssl-images-amazon.com/image...</td>\n",
       "      <td>[https://images-na.ssl-images-amazon.com/image...</td>\n",
       "    </tr>\n",
       "    <tr>\n",
       "      <th>1</th>\n",
       "      <td>11120</td>\n",
       "      <td>Arts, Crafts &amp; Sewing &gt; Craft Supplies &gt; Soap ...</td>\n",
       "      <td>[]</td>\n",
       "      <td>Pinkie Tm girl flower Handmade soap silicone m...</td>\n",
       "      <td></td>\n",
       "      <td>[]</td>\n",
       "      <td>$35.00</td>\n",
       "      <td>7121277158</td>\n",
       "      <td>[https://images-na.ssl-images-amazon.com/image...</td>\n",
       "      <td>[https://images-na.ssl-images-amazon.com/image...</td>\n",
       "    </tr>\n",
       "    <tr>\n",
       "      <th>2</th>\n",
       "      <td>1953912</td>\n",
       "      <td>Home &amp; Kitchen (See Top 100 in Home &amp; Kitchen)</td>\n",
       "      <td>[]</td>\n",
       "      <td>Pinkie Tm 3D blooming chrysanthemums Flower So...</td>\n",
       "      <td></td>\n",
       "      <td>[]</td>\n",
       "      <td>$35.00</td>\n",
       "      <td>7121280027</td>\n",
       "      <td>[https://images-na.ssl-images-amazon.com/image...</td>\n",
       "      <td>[https://images-na.ssl-images-amazon.com/image...</td>\n",
       "    </tr>\n",
       "    <tr>\n",
       "      <th>3</th>\n",
       "      <td>2574</td>\n",
       "      <td>Arts, Crafts &amp; Sewing &gt; Craft Supplies &gt; Soap ...</td>\n",
       "      <td>[]</td>\n",
       "      <td>Pinkie Tm 3D blooming chrysanthemums Flower So...</td>\n",
       "      <td></td>\n",
       "      <td>[]</td>\n",
       "      <td>$35.00</td>\n",
       "      <td>7121280027</td>\n",
       "      <td>[https://images-na.ssl-images-amazon.com/image...</td>\n",
       "      <td>[https://images-na.ssl-images-amazon.com/image...</td>\n",
       "    </tr>\n",
       "    <tr>\n",
       "      <th>4</th>\n",
       "      <td>761776</td>\n",
       "      <td>Kitchen &amp; Dining (See Top 100 in Kitchen &amp; Din...</td>\n",
       "      <td>[moldsize:L7.2xW3.7xH4.8cm(L2.83xW1.46xH1.89in...</td>\n",
       "      <td>Pinkie Tm Rabbit animal silicone soap mold for...</td>\n",
       "      <td>pinkie</td>\n",
       "      <td>[Made in 100% pure silicone,softness and comfo...</td>\n",
       "      <td>$7.99</td>\n",
       "      <td>7121281821</td>\n",
       "      <td>[https://images-na.ssl-images-amazon.com/image...</td>\n",
       "      <td>[https://images-na.ssl-images-amazon.com/image...</td>\n",
       "    </tr>\n",
       "  </tbody>\n",
       "</table>\n",
       "</div>"
      ],
      "text/plain": [
       "      rank                                           category  \\\n",
       "0  9616321     Home & Kitchen (See Top 100 in Home & Kitchen)   \n",
       "1    11120  Arts, Crafts & Sewing > Craft Supplies > Soap ...   \n",
       "2  1953912     Home & Kitchen (See Top 100 in Home & Kitchen)   \n",
       "3     2574  Arts, Crafts & Sewing > Craft Supplies > Soap ...   \n",
       "4   761776  Kitchen & Dining (See Top 100 in Kitchen & Din...   \n",
       "\n",
       "                                         description  \\\n",
       "0                                                 []   \n",
       "1                                                 []   \n",
       "2                                                 []   \n",
       "3                                                 []   \n",
       "4  [moldsize:L7.2xW3.7xH4.8cm(L2.83xW1.46xH1.89in...   \n",
       "\n",
       "                                               title   brand  \\\n",
       "0  Pinkie Tm girl flower Handmade soap silicone m...           \n",
       "1  Pinkie Tm girl flower Handmade soap silicone m...           \n",
       "2  Pinkie Tm 3D blooming chrysanthemums Flower So...           \n",
       "3  Pinkie Tm 3D blooming chrysanthemums Flower So...           \n",
       "4  Pinkie Tm Rabbit animal silicone soap mold for...  pinkie   \n",
       "\n",
       "                                             feature   price        asin  \\\n",
       "0                                                 []  $35.00  7121277158   \n",
       "1                                                 []  $35.00  7121277158   \n",
       "2                                                 []  $35.00  7121280027   \n",
       "3                                                 []  $35.00  7121280027   \n",
       "4  [Made in 100% pure silicone,softness and comfo...   $7.99  7121281821   \n",
       "\n",
       "                                              images  \\\n",
       "0  [https://images-na.ssl-images-amazon.com/image...   \n",
       "1  [https://images-na.ssl-images-amazon.com/image...   \n",
       "2  [https://images-na.ssl-images-amazon.com/image...   \n",
       "3  [https://images-na.ssl-images-amazon.com/image...   \n",
       "4  [https://images-na.ssl-images-amazon.com/image...   \n",
       "\n",
       "                                       imagesHighRes  \n",
       "0  [https://images-na.ssl-images-amazon.com/image...  \n",
       "1  [https://images-na.ssl-images-amazon.com/image...  \n",
       "2  [https://images-na.ssl-images-amazon.com/image...  \n",
       "3  [https://images-na.ssl-images-amazon.com/image...  \n",
       "4  [https://images-na.ssl-images-amazon.com/image...  "
      ]
     },
     "execution_count": 160,
     "metadata": {},
     "output_type": "execute_result"
    }
   ],
   "source": [
    "metadata_clear.head()"
   ]
  },
  {
   "cell_type": "code",
   "execution_count": 163,
   "id": "3f6ca234",
   "metadata": {},
   "outputs": [],
   "source": [
    "# ! pip install beautifulsoup4\n",
    "from bs4 import BeautifulSoup\n",
    "\n",
    "def get_filtered_sentence(sentence):\n",
    "    cleantext = BeautifulSoup(str(sentence).replace(\"[\", \"\").replace(\"'\", \"\").replace(\"]\", \"\"), \"html.parser\").text\n",
    "    return cleantext"
   ]
  },
  {
   "cell_type": "code",
   "execution_count": 164,
   "id": "ad7a3796",
   "metadata": {
    "id": "ad7a3796",
    "outputId": "7c6ba9f2-eeac-4d27-fbaa-75202e1dd9ac"
   },
   "outputs": [
    {
     "name": "stderr",
     "output_type": "stream",
     "text": [
      "  0%|          | 2477/879794 [00:00<02:22, 6163.78it/s]C:\\Users\\artyo\\anaconda3\\lib\\site-packages\\bs4\\__init__.py:337: MarkupResemblesLocatorWarning: \".\" looks like a directory name, not markup. You may want to open a file found in this directory and pass the filehandle into Beautiful Soup.\n",
      "  warnings.warn(\n",
      "  2%|▏         | 17448/879794 [00:02<01:44, 8273.95it/s]C:\\Users\\artyo\\anaconda3\\lib\\site-packages\\bs4\\__init__.py:337: MarkupResemblesLocatorWarning: \". . . .\" looks like a directory name, not markup. You may want to open a file found in this directory and pass the filehandle into Beautiful Soup.\n",
      "  warnings.warn(\n",
      "  5%|▌         | 44589/879794 [00:05<01:24, 9886.37it/s]C:\\Users\\artyo\\anaconda3\\lib\\site-packages\\bs4\\__init__.py:431: MarkupResemblesLocatorWarning: \"https://www.amscan.com/graphics_cache/f/f/35858-210167-3-600.jpg\" looks like a URL. Beautiful Soup is not an HTTP client. You should probably use an HTTP client like requests to get the document behind the URL, and feed that document to Beautiful Soup.\n",
      "  warnings.warn(\n",
      " 15%|█▌        | 135300/879794 [00:15<01:25, 8677.54it/s]C:\\Users\\artyo\\anaconda3\\lib\\site-packages\\bs4\\__init__.py:337: MarkupResemblesLocatorWarning: \"...\" looks like a directory name, not markup. You may want to open a file found in this directory and pass the filehandle into Beautiful Soup.\n",
      "  warnings.warn(\n",
      " 42%|████▏     | 372975/879794 [00:51<02:06, 4008.76it/s] C:\\Users\\artyo\\anaconda3\\lib\\site-packages\\bs4\\__init__.py:431: MarkupResemblesLocatorWarning: \"http://www.amazon.com/Filigree-Necklace-Fragrance-Aromatherapy-Essential/dp/B018G4B41K/ref=sr_1_92?s=arts-crafts&ie=UTF8&qid=1456835248&sr=1-92&keywords=locket\" looks like a URL. Beautiful Soup is not an HTTP client. You should probably use an HTTP client like requests to get the document behind the URL, and feed that document to Beautiful Soup.\n",
      "  warnings.warn(\n",
      " 53%|█████▎    | 462593/879794 [01:20<02:25, 2872.22it/s]C:\\Users\\artyo\\anaconda3\\lib\\site-packages\\bs4\\__init__.py:431: MarkupResemblesLocatorWarning: \"https://images-na.ssl-images-amazon.com/images/I/31VLBPikgdL.jpg\" looks like a URL. Beautiful Soup is not an HTTP client. You should probably use an HTTP client like requests to get the document behind the URL, and feed that document to Beautiful Soup.\n",
      "  warnings.warn(\n",
      " 79%|███████▊  | 691683/879794 [02:26<01:05, 2878.60it/s]C:\\Users\\artyo\\anaconda3\\lib\\site-packages\\bs4\\__init__.py:431: MarkupResemblesLocatorWarning: \"http://www.raidmax.com/power-supplies_rx-1200ae-b.html\" looks like a URL. Beautiful Soup is not an HTTP client. You should probably use an HTTP client like requests to get the document behind the URL, and feed that document to Beautiful Soup.\n",
      "  warnings.warn(\n",
      " 81%|████████  | 713894/879794 [02:32<00:44, 3769.86it/s]C:\\Users\\artyo\\anaconda3\\lib\\site-packages\\bs4\\__init__.py:431: MarkupResemblesLocatorWarning: \"http://www.amazon.com/dp/B00P8D3GUK\" looks like a URL. Beautiful Soup is not an HTTP client. You should probably use an HTTP client like requests to get the document behind the URL, and feed that document to Beautiful Soup.\n",
      "  warnings.warn(\n",
      " 88%|████████▊ | 772967/879794 [02:50<00:34, 3057.43it/s]C:\\Users\\artyo\\anaconda3\\lib\\site-packages\\bs4\\__init__.py:431: MarkupResemblesLocatorWarning: \"http://www.mycablemart.com/store/images/products/2922_large.jpg\" looks like a URL. Beautiful Soup is not an HTTP client. You should probably use an HTTP client like requests to get the document behind the URL, and feed that document to Beautiful Soup.\n",
      "  warnings.warn(\n",
      " 88%|████████▊ | 776014/879794 [02:51<00:31, 3330.37it/s]C:\\Users\\artyo\\anaconda3\\lib\\site-packages\\bs4\\__init__.py:431: MarkupResemblesLocatorWarning: \"http://www.mycablemart.com/store/images/products/2327_large.jpg\" looks like a URL. Beautiful Soup is not an HTTP client. You should probably use an HTTP client like requests to get the document behind the URL, and feed that document to Beautiful Soup.\n",
      "  warnings.warn(\n",
      " 92%|█████████▏| 809951/879794 [03:02<00:22, 3149.46it/s]C:\\Users\\artyo\\anaconda3\\lib\\site-packages\\bs4\\__init__.py:337: MarkupResemblesLocatorWarning: \"..\" looks like a directory name, not markup. You may want to open a file found in this directory and pass the filehandle into Beautiful Soup.\n",
      "  warnings.warn(\n",
      "100%|██████████| 879794/879794 [03:28<00:00, 4222.69it/s]\n"
     ]
    }
   ],
   "source": [
    "metadata_clear['description'] = metadata_clear['description'].progress_apply(lambda x: get_filtered_sentence(str(x)))"
   ]
  },
  {
   "cell_type": "code",
   "execution_count": 165,
   "id": "a1830262",
   "metadata": {
    "id": "a1830262",
    "outputId": "f7f5123a-5687-4056-ee53-a058befaf289"
   },
   "outputs": [
    {
     "name": "stderr",
     "output_type": "stream",
     "text": [
      "100%|██████████| 879794/879794 [01:47<00:00, 8161.81it/s]\n"
     ]
    }
   ],
   "source": [
    "metadata_clear['title'] = metadata_clear['title'].progress_apply(lambda x: get_filtered_sentence(str(x)))"
   ]
  },
  {
   "cell_type": "code",
   "execution_count": 166,
   "id": "54b2ac81",
   "metadata": {
    "id": "54b2ac81",
    "outputId": "b1151e90-4844-4675-8531-fe198e75819c"
   },
   "outputs": [
    {
     "name": "stderr",
     "output_type": "stream",
     "text": [
      " 30%|███       | 266056/879794 [00:42<01:47, 5716.18it/s]C:\\Users\\artyo\\anaconda3\\lib\\site-packages\\bs4\\__init__.py:431: MarkupResemblesLocatorWarning: \"https://youtu.be/J5d25NmFVWI\" looks like a URL. Beautiful Soup is not an HTTP client. You should probably use an HTTP client like requests to get the document behind the URL, and feed that document to Beautiful Soup.\n",
      "  warnings.warn(\n",
      " 67%|██████▋   | 590604/879794 [01:39<00:38, 7557.71it/s]C:\\Users\\artyo\\anaconda3\\lib\\site-packages\\bs4\\__init__.py:431: MarkupResemblesLocatorWarning: \"http://www.nvidia.com/content/grid/pdf/GRID_K2_BD-06580-001_v02.pdf\" looks like a URL. Beautiful Soup is not an HTTP client. You should probably use an HTTP client like requests to get the document behind the URL, and feed that document to Beautiful Soup.\n",
      "  warnings.warn(\n",
      " 70%|███████   | 616962/879794 [01:42<00:42, 6142.33it/s]C:\\Users\\artyo\\anaconda3\\lib\\site-packages\\bs4\\__init__.py:431: MarkupResemblesLocatorWarning: \"http://www.twhouse.com/media/catalog/product/d/v/dvsw2000_2.jpg\" looks like a URL. Beautiful Soup is not an HTTP client. You should probably use an HTTP client like requests to get the document behind the URL, and feed that document to Beautiful Soup.\n",
      "  warnings.warn(\n",
      " 77%|███████▋  | 674681/879794 [01:52<00:40, 5084.49it/s]C:\\Users\\artyo\\anaconda3\\lib\\site-packages\\bs4\\__init__.py:431: MarkupResemblesLocatorWarning: \"http://www.twhouse.com/media/catalog/product/s/b/sbb11_2.jpg\" looks like a URL. Beautiful Soup is not an HTTP client. You should probably use an HTTP client like requests to get the document behind the URL, and feed that document to Beautiful Soup.\n",
      "  warnings.warn(\n",
      " 77%|███████▋  | 679927/879794 [01:53<00:38, 5201.65it/s]C:\\Users\\artyo\\anaconda3\\lib\\site-packages\\bs4\\__init__.py:337: MarkupResemblesLocatorWarning: \".....\" looks like a directory name, not markup. You may want to open a file found in this directory and pass the filehandle into Beautiful Soup.\n",
      "  warnings.warn(\n",
      "100%|██████████| 879794/879794 [02:33<00:00, 5747.55it/s]\n"
     ]
    }
   ],
   "source": [
    "metadata_clear['feature'] = metadata_clear['feature'].progress_apply(lambda x: get_filtered_sentence(str(x)))"
   ]
  },
  {
   "cell_type": "code",
   "execution_count": 167,
   "id": "84e261b8",
   "metadata": {
    "id": "84e261b8",
    "outputId": "5fb36069-7c50-4d68-9d60-848bf16fde24"
   },
   "outputs": [
    {
     "name": "stderr",
     "output_type": "stream",
     "text": [
      " 31%|███▏      | 276531/879794 [00:32<01:03, 9550.20it/s]C:\\Users\\artyo\\anaconda3\\lib\\site-packages\\bs4\\__init__.py:346: MarkupResemblesLocatorWarning: \"Aux\" looks like a filename, not markup. You should probably open this file and pass the filehandle into Beautiful Soup.\n",
      "  warnings.warn(\n",
      "100%|██████████| 879794/879794 [01:54<00:00, 7700.74it/s]\n"
     ]
    }
   ],
   "source": [
    "metadata_clear['brand'] = metadata_clear['brand'].progress_apply(lambda x: get_filtered_sentence(str(x)))"
   ]
  },
  {
   "cell_type": "code",
   "execution_count": 168,
   "id": "aa302c1e",
   "metadata": {
    "id": "aa302c1e"
   },
   "outputs": [],
   "source": [
    "from price_parser import Price\n",
    "\n",
    "def parse_price(price):\n",
    "    res = 0\n",
    "    try:\n",
    "        res = Price.fromstring(str(price)).amount_float\n",
    "    except Exception:\n",
    "        res = -1\n",
    "    return res"
   ]
  },
  {
   "cell_type": "code",
   "execution_count": 169,
   "id": "b05b3755",
   "metadata": {
    "id": "b05b3755",
    "outputId": "ea685c62-be21-4ada-cd47-f56ae6684c02"
   },
   "outputs": [
    {
     "name": "stderr",
     "output_type": "stream",
     "text": [
      "100%|██████████| 879794/879794 [00:30<00:00, 29266.40it/s]\n"
     ]
    }
   ],
   "source": [
    "metadata_clear['price'] = metadata_clear['price'].progress_apply(lambda x: parse_price(x))"
   ]
  },
  {
   "cell_type": "code",
   "execution_count": 170,
   "id": "f377d06b",
   "metadata": {},
   "outputs": [],
   "source": [
    "metadata_clear = metadata_clear.dropna()"
   ]
  },
  {
   "cell_type": "code",
   "execution_count": 171,
   "id": "745e50e6",
   "metadata": {},
   "outputs": [
    {
     "data": {
      "text/plain": [
       "(878653, 10)"
      ]
     },
     "execution_count": 171,
     "metadata": {},
     "output_type": "execute_result"
    }
   ],
   "source": [
    "metadata_clear.shape"
   ]
  },
  {
   "cell_type": "markdown",
   "id": "08ef8b4c",
   "metadata": {},
   "source": [
    "Создаём уникальные id для категорий"
   ]
  },
  {
   "cell_type": "code",
   "execution_count": 172,
   "id": "a3b97be8",
   "metadata": {},
   "outputs": [],
   "source": [
    "categories_list = metadata_clear['category'].values.tolist()"
   ]
  },
  {
   "cell_type": "code",
   "execution_count": 173,
   "id": "6df35b8f",
   "metadata": {},
   "outputs": [
    {
     "data": {
      "text/plain": [
       "2682"
      ]
     },
     "execution_count": 173,
     "metadata": {},
     "output_type": "execute_result"
    }
   ],
   "source": [
    "len(set(categories_list))"
   ]
  },
  {
   "cell_type": "code",
   "execution_count": 174,
   "id": "35245159",
   "metadata": {},
   "outputs": [
    {
     "data": {
      "text/plain": [
       "2682"
      ]
     },
     "execution_count": 174,
     "metadata": {},
     "output_type": "execute_result"
    }
   ],
   "source": [
    "from collections import defaultdict\n",
    "  \n",
    "temp = defaultdict(lambda: len(temp))\n",
    "categories_ids = [temp[ele] for ele in categories_list]\n",
    "len(set(categories_ids))"
   ]
  },
  {
   "cell_type": "code",
   "execution_count": 175,
   "id": "9317a01e",
   "metadata": {},
   "outputs": [],
   "source": [
    "metadata_clear['category_id'] = np.array(categories_ids)"
   ]
  },
  {
   "cell_type": "code",
   "execution_count": 176,
   "id": "54c01472",
   "metadata": {},
   "outputs": [
    {
     "data": {
      "text/plain": [
       "count     878653\n",
       "unique    316786\n",
       "top            1\n",
       "freq         448\n",
       "Name: rank, dtype: int64"
      ]
     },
     "execution_count": 176,
     "metadata": {},
     "output_type": "execute_result"
    }
   ],
   "source": [
    "metadata_clear['rank'].describe()"
   ]
  },
  {
   "cell_type": "markdown",
   "id": "f33f6dc6",
   "metadata": {},
   "source": [
    "Уберём очень большие ранги"
   ]
  },
  {
   "cell_type": "code",
   "execution_count": 177,
   "id": "b170fd29",
   "metadata": {},
   "outputs": [],
   "source": [
    "metadata_clear = metadata_clear[metadata_clear['rank'] <= 1000000]"
   ]
  },
  {
   "cell_type": "code",
   "execution_count": 178,
   "id": "88cb483e",
   "metadata": {},
   "outputs": [],
   "source": [
    "metadata_parsed = metadata_clear.copy()"
   ]
  },
  {
   "cell_type": "code",
   "execution_count": 179,
   "id": "9e7d1e44",
   "metadata": {},
   "outputs": [],
   "source": [
    "metadata_parsed['rank'] = metadata_parsed['rank'].astype(float)"
   ]
  },
  {
   "cell_type": "markdown",
   "id": "a5e4a0c9",
   "metadata": {},
   "source": [
    "Модели ранжирования в TF Ranking подразумевают, что чем больше скор, тем лучше, поэтому нужна функция, которая адекватно переводит ранги из отсортированных по возрастанию в отсортированные по убыванию, в идеале - ещё в небольшом диапазоне, для вычислительной стабильности"
   ]
  },
  {
   "cell_type": "code",
   "execution_count": 180,
   "id": "314f7a76",
   "metadata": {},
   "outputs": [],
   "source": [
    "metadata_parsed['rank_scaled'] = np.log10(metadata_parsed['rank'])"
   ]
  },
  {
   "cell_type": "code",
   "execution_count": 181,
   "id": "c01af784",
   "metadata": {},
   "outputs": [
    {
     "data": {
      "text/html": [
       "<div>\n",
       "<style scoped>\n",
       "    .dataframe tbody tr th:only-of-type {\n",
       "        vertical-align: middle;\n",
       "    }\n",
       "\n",
       "    .dataframe tbody tr th {\n",
       "        vertical-align: top;\n",
       "    }\n",
       "\n",
       "    .dataframe thead th {\n",
       "        text-align: right;\n",
       "    }\n",
       "</style>\n",
       "<table border=\"1\" class=\"dataframe\">\n",
       "  <thead>\n",
       "    <tr style=\"text-align: right;\">\n",
       "      <th></th>\n",
       "      <th>rank</th>\n",
       "      <th>category</th>\n",
       "      <th>description</th>\n",
       "      <th>title</th>\n",
       "      <th>brand</th>\n",
       "      <th>feature</th>\n",
       "      <th>price</th>\n",
       "      <th>asin</th>\n",
       "      <th>images</th>\n",
       "      <th>imagesHighRes</th>\n",
       "      <th>category_id</th>\n",
       "      <th>rank_scaled</th>\n",
       "    </tr>\n",
       "  </thead>\n",
       "  <tbody>\n",
       "    <tr>\n",
       "      <th>1</th>\n",
       "      <td>11120.0</td>\n",
       "      <td>Arts, Crafts &amp; Sewing &gt; Craft Supplies &gt; Soap ...</td>\n",
       "      <td></td>\n",
       "      <td>Pinkie Tm girl flower Handmade soap silicone m...</td>\n",
       "      <td></td>\n",
       "      <td></td>\n",
       "      <td>35.00</td>\n",
       "      <td>7121277158</td>\n",
       "      <td>[https://images-na.ssl-images-amazon.com/image...</td>\n",
       "      <td>[https://images-na.ssl-images-amazon.com/image...</td>\n",
       "      <td>1</td>\n",
       "      <td>4.046105</td>\n",
       "    </tr>\n",
       "    <tr>\n",
       "      <th>3</th>\n",
       "      <td>2574.0</td>\n",
       "      <td>Arts, Crafts &amp; Sewing &gt; Craft Supplies &gt; Soap ...</td>\n",
       "      <td></td>\n",
       "      <td>Pinkie Tm 3D blooming chrysanthemums Flower So...</td>\n",
       "      <td></td>\n",
       "      <td></td>\n",
       "      <td>35.00</td>\n",
       "      <td>7121280027</td>\n",
       "      <td>[https://images-na.ssl-images-amazon.com/image...</td>\n",
       "      <td>[https://images-na.ssl-images-amazon.com/image...</td>\n",
       "      <td>1</td>\n",
       "      <td>3.410609</td>\n",
       "    </tr>\n",
       "    <tr>\n",
       "      <th>4</th>\n",
       "      <td>761776.0</td>\n",
       "      <td>Kitchen &amp; Dining (See Top 100 in Kitchen &amp; Din...</td>\n",
       "      <td>moldsize:L7.2xW3.7xH4.8cm(L2.83xW1.46xH1.89inc...</td>\n",
       "      <td>Pinkie Tm Rabbit animal silicone soap mold for...</td>\n",
       "      <td>pinkie</td>\n",
       "      <td>Made in 100% pure silicone,softness and comfor...</td>\n",
       "      <td>7.99</td>\n",
       "      <td>7121281821</td>\n",
       "      <td>[https://images-na.ssl-images-amazon.com/image...</td>\n",
       "      <td>[https://images-na.ssl-images-amazon.com/image...</td>\n",
       "      <td>2</td>\n",
       "      <td>5.881827</td>\n",
       "    </tr>\n",
       "    <tr>\n",
       "      <th>5</th>\n",
       "      <td>636.0</td>\n",
       "      <td>Arts, Crafts &amp; Sewing &gt; Craft Supplies &gt; Ceram...</td>\n",
       "      <td>moldsize:L7.2xW3.7xH4.8cm(L2.83xW1.46xH1.89inc...</td>\n",
       "      <td>Pinkie Tm Rabbit animal silicone soap mold for...</td>\n",
       "      <td>pinkie</td>\n",
       "      <td>Made in 100% pure silicone,softness and comfor...</td>\n",
       "      <td>7.99</td>\n",
       "      <td>7121281821</td>\n",
       "      <td>[https://images-na.ssl-images-amazon.com/image...</td>\n",
       "      <td>[https://images-na.ssl-images-amazon.com/image...</td>\n",
       "      <td>3</td>\n",
       "      <td>2.803457</td>\n",
       "    </tr>\n",
       "    <tr>\n",
       "      <th>7</th>\n",
       "      <td>7303.0</td>\n",
       "      <td>Arts, Crafts &amp; Sewing &gt; Craft Supplies &gt; Soap ...</td>\n",
       "      <td></td>\n",
       "      <td>Pinkie Tm Womens Wallets handbag purse shaped ...</td>\n",
       "      <td></td>\n",
       "      <td></td>\n",
       "      <td>35.00</td>\n",
       "      <td>7121282534</td>\n",
       "      <td>[]</td>\n",
       "      <td>[]</td>\n",
       "      <td>1</td>\n",
       "      <td>3.863501</td>\n",
       "    </tr>\n",
       "  </tbody>\n",
       "</table>\n",
       "</div>"
      ],
      "text/plain": [
       "       rank                                           category  \\\n",
       "1   11120.0  Arts, Crafts & Sewing > Craft Supplies > Soap ...   \n",
       "3    2574.0  Arts, Crafts & Sewing > Craft Supplies > Soap ...   \n",
       "4  761776.0  Kitchen & Dining (See Top 100 in Kitchen & Din...   \n",
       "5     636.0  Arts, Crafts & Sewing > Craft Supplies > Ceram...   \n",
       "7    7303.0  Arts, Crafts & Sewing > Craft Supplies > Soap ...   \n",
       "\n",
       "                                         description  \\\n",
       "1                                                      \n",
       "3                                                      \n",
       "4  moldsize:L7.2xW3.7xH4.8cm(L2.83xW1.46xH1.89inc...   \n",
       "5  moldsize:L7.2xW3.7xH4.8cm(L2.83xW1.46xH1.89inc...   \n",
       "7                                                      \n",
       "\n",
       "                                               title   brand  \\\n",
       "1  Pinkie Tm girl flower Handmade soap silicone m...           \n",
       "3  Pinkie Tm 3D blooming chrysanthemums Flower So...           \n",
       "4  Pinkie Tm Rabbit animal silicone soap mold for...  pinkie   \n",
       "5  Pinkie Tm Rabbit animal silicone soap mold for...  pinkie   \n",
       "7  Pinkie Tm Womens Wallets handbag purse shaped ...           \n",
       "\n",
       "                                             feature  price        asin  \\\n",
       "1                                                     35.00  7121277158   \n",
       "3                                                     35.00  7121280027   \n",
       "4  Made in 100% pure silicone,softness and comfor...   7.99  7121281821   \n",
       "5  Made in 100% pure silicone,softness and comfor...   7.99  7121281821   \n",
       "7                                                     35.00  7121282534   \n",
       "\n",
       "                                              images  \\\n",
       "1  [https://images-na.ssl-images-amazon.com/image...   \n",
       "3  [https://images-na.ssl-images-amazon.com/image...   \n",
       "4  [https://images-na.ssl-images-amazon.com/image...   \n",
       "5  [https://images-na.ssl-images-amazon.com/image...   \n",
       "7                                                 []   \n",
       "\n",
       "                                       imagesHighRes  category_id  rank_scaled  \n",
       "1  [https://images-na.ssl-images-amazon.com/image...            1     4.046105  \n",
       "3  [https://images-na.ssl-images-amazon.com/image...            1     3.410609  \n",
       "4  [https://images-na.ssl-images-amazon.com/image...            2     5.881827  \n",
       "5  [https://images-na.ssl-images-amazon.com/image...            3     2.803457  \n",
       "7                                                 []            1     3.863501  "
      ]
     },
     "execution_count": 181,
     "metadata": {},
     "output_type": "execute_result"
    }
   ],
   "source": [
    "metadata_parsed.head()"
   ]
  },
  {
   "cell_type": "code",
   "execution_count": 182,
   "id": "f8ad786a",
   "metadata": {},
   "outputs": [
    {
     "data": {
      "text/plain": [
       "count    818780.000000\n",
       "mean          4.139722\n",
       "std           1.089932\n",
       "min           0.000000\n",
       "25%           3.392873\n",
       "50%           4.195124\n",
       "75%           4.989192\n",
       "max           5.999997\n",
       "Name: rank_scaled, dtype: float64"
      ]
     },
     "execution_count": 182,
     "metadata": {},
     "output_type": "execute_result"
    }
   ],
   "source": [
    "metadata_parsed['rank_scaled'].describe()"
   ]
  },
  {
   "cell_type": "code",
   "execution_count": 183,
   "id": "28b39f68",
   "metadata": {},
   "outputs": [],
   "source": [
    "metadata_parsed['rank_scaled'] = -metadata_parsed['rank_scaled'] + metadata_parsed['rank_scaled'].max() "
   ]
  },
  {
   "cell_type": "code",
   "execution_count": 184,
   "id": "5de2a92b",
   "metadata": {},
   "outputs": [
    {
     "data": {
      "text/plain": [
       "count    818780.000000\n",
       "mean          1.860274\n",
       "std           1.089932\n",
       "min           0.000000\n",
       "25%           1.010805\n",
       "50%           1.804872\n",
       "75%           2.607124\n",
       "max           5.999997\n",
       "Name: rank_scaled, dtype: float64"
      ]
     },
     "execution_count": 184,
     "metadata": {},
     "output_type": "execute_result"
    }
   ],
   "source": [
    "metadata_parsed['rank_scaled'].describe()"
   ]
  },
  {
   "cell_type": "code",
   "execution_count": 185,
   "id": "2144c711",
   "metadata": {},
   "outputs": [],
   "source": [
    "df = metadata_parsed.groupby('category_id')['title'].count() > 40"
   ]
  },
  {
   "cell_type": "code",
   "execution_count": 186,
   "id": "5845c710",
   "metadata": {},
   "outputs": [],
   "source": [
    "df = df.reset_index()"
   ]
  },
  {
   "cell_type": "code",
   "execution_count": 187,
   "id": "2aa5e6e1",
   "metadata": {},
   "outputs": [],
   "source": [
    "category_ids = list(df[df['title'] == True].category_id)"
   ]
  },
  {
   "cell_type": "code",
   "execution_count": 188,
   "id": "933db9de",
   "metadata": {},
   "outputs": [],
   "source": [
    "metadata_parsed = metadata_parsed[metadata_parsed['category_id'].isin(category_ids)]"
   ]
  },
  {
   "cell_type": "code",
   "execution_count": 189,
   "id": "6d6791c7",
   "metadata": {},
   "outputs": [
    {
     "data": {
      "text/plain": [
       "(805088, 12)"
      ]
     },
     "execution_count": 189,
     "metadata": {},
     "output_type": "execute_result"
    }
   ],
   "source": [
    "metadata_parsed.shape"
   ]
  },
  {
   "cell_type": "code",
   "execution_count": 191,
   "id": "c30aaab3",
   "metadata": {},
   "outputs": [
    {
     "name": "stdout",
     "output_type": "stream",
     "text": [
      "Wall time: 29.4 s\n"
     ]
    }
   ],
   "source": [
    "%%time\n",
    "metadata_parsed.to_csv('metadata_parsed_with_images.csv', index=False)"
   ]
  },
  {
   "cell_type": "markdown",
   "id": "387ccbbc",
   "metadata": {},
   "source": [
    "Работа с изображениями"
   ]
  },
  {
   "cell_type": "code",
   "execution_count": 4,
   "id": "6796a317",
   "metadata": {},
   "outputs": [
    {
     "name": "stdout",
     "output_type": "stream",
     "text": [
      "CPU times: total: 8.55 s\n",
      "Wall time: 8.83 s\n"
     ]
    }
   ],
   "source": [
    "%%time\n",
    "metadata_test = pd.read_csv('metadata_parsed_with_images.csv')"
   ]
  },
  {
   "cell_type": "code",
   "execution_count": 5,
   "id": "ef98cd6c",
   "metadata": {},
   "outputs": [
    {
     "data": {
      "text/plain": [
       "(805088, 12)"
      ]
     },
     "execution_count": 5,
     "metadata": {},
     "output_type": "execute_result"
    }
   ],
   "source": [
    "metadata_test.shape"
   ]
  },
  {
   "cell_type": "code",
   "execution_count": 6,
   "id": "69faa1f8",
   "metadata": {},
   "outputs": [],
   "source": [
    "metadata_test = metadata_test.fillna('')"
   ]
  },
  {
   "cell_type": "code",
   "execution_count": 7,
   "id": "4a923fac",
   "metadata": {},
   "outputs": [],
   "source": [
    "import ast"
   ]
  },
  {
   "cell_type": "code",
   "execution_count": 8,
   "id": "b697ed7d",
   "metadata": {},
   "outputs": [
    {
     "name": "stdout",
     "output_type": "stream",
     "text": [
      "CPU times: total: 9.88 s\n",
      "Wall time: 9.91 s\n"
     ]
    }
   ],
   "source": [
    "%%time\n",
    "metadata_test['images'] = metadata_test['images'].apply(lambda x: ast.literal_eval(x))"
   ]
  },
  {
   "cell_type": "code",
   "execution_count": 9,
   "id": "9ae6ac90",
   "metadata": {},
   "outputs": [
    {
     "name": "stdout",
     "output_type": "stream",
     "text": [
      "CPU times: total: 9.91 s\n",
      "Wall time: 9.91 s\n"
     ]
    }
   ],
   "source": [
    "%%time\n",
    "metadata_test['imagesHighRes'] = metadata_test['imagesHighRes'].apply(lambda x: ast.literal_eval(x))"
   ]
  },
  {
   "cell_type": "markdown",
   "id": "9853a4e2",
   "metadata": {},
   "source": [
    "функция скачивает изображение и сохраняет по пути path"
   ]
  },
  {
   "cell_type": "code",
   "execution_count": 12,
   "id": "a43732a1",
   "metadata": {},
   "outputs": [],
   "source": [
    "import traceback\n",
    "from functools import partial\n",
    "def get_image(urls, path='images_0/'):\n",
    "    import traceback\n",
    "    import urllib.request\n",
    "    try:\n",
    "        if len(urls) == 0:\n",
    "            return None\n",
    "        url = urls[0]\n",
    "        urllib.request.urlretrieve(url, path + url[49:])\n",
    "    except Exception:\n",
    "        print(f\"Exception: {traceback.format_exc()}\")\n",
    "    return None"
   ]
  },
  {
   "cell_type": "code",
   "execution_count": 21,
   "id": "8323d333",
   "metadata": {},
   "outputs": [
    {
     "name": "stdout",
     "output_type": "stream",
     "text": [
      "CPU times: total: 15.6 ms\n",
      "Wall time: 48.1 ms\n"
     ]
    },
    {
     "name": "stderr",
     "output_type": "stream",
     "text": [
      "C:\\Users\\artyo\\anaconda3\\envs\\tfr-bert-demo\\lib\\site-packages\\tqdm\\auto.py:22: TqdmWarning: IProgress not found. Please update jupyter and ipywidgets. See https://ipywidgets.readthedocs.io/en/stable/user_install.html\n",
      "  from .autonotebook import tqdm as notebook_tqdm\n"
     ]
    }
   ],
   "source": [
    "%%time\n",
    "import pandas as pd\n",
    "import mapply\n",
    "\n",
    "mapply.init(\n",
    "    n_workers=-1\n",
    ")\n",
    "\n",
    "# _ = part.images.mapply(partial(get_image, path='images_0/'))"
   ]
  },
  {
   "cell_type": "code",
   "execution_count": null,
   "id": "ace0caca",
   "metadata": {},
   "outputs": [
    {
     "name": "stderr",
     "output_type": "stream",
     "text": [
      " 30%|███       | 17/56 [06:09<13:23, 20.61s/it]  "
     ]
    }
   ],
   "source": [
    "part = metadata_test.iloc[500000:600000]\n",
    "part.imagesHighRes.mapply(partial(get_image, path=f'images_high_res_small/'))"
   ]
  }
 ],
 "metadata": {
  "kernelspec": {
   "display_name": "Python 3 (ipykernel)",
   "language": "python",
   "name": "python3"
  },
  "language_info": {
   "codemirror_mode": {
    "name": "ipython",
    "version": 3
   },
   "file_extension": ".py",
   "mimetype": "text/x-python",
   "name": "python",
   "nbconvert_exporter": "python",
   "pygments_lexer": "ipython3",
   "version": "3.10.3"
  }
 },
 "nbformat": 4,
 "nbformat_minor": 5
}
