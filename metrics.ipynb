{
 "cells": [
  {
   "cell_type": "markdown",
   "id": "63a82f5e",
   "metadata": {},
   "source": [
    "### Naive model"
   ]
  },
  {
   "cell_type": "markdown",
   "id": "d18ecab8",
   "metadata": {},
   "source": [
    "NDCG@5 0.5, NDCG@10 0.58"
   ]
  },
  {
   "cell_type": "markdown",
   "id": "99bc0402",
   "metadata": {},
   "source": [
    "### Model with category emb"
   ]
  },
  {
   "cell_type": "markdown",
   "id": "9d59da70",
   "metadata": {},
   "source": [
    "NDCG@5 0.55, NDCG@10 0.63 "
   ]
  },
  {
   "cell_type": "markdown",
   "id": "3937128f",
   "metadata": {},
   "source": [
    "### Emb model"
   ]
  },
  {
   "cell_type": "markdown",
   "id": "e1825cd4",
   "metadata": {},
   "source": [
    "NDCG@5 0.64, NDCG@10 0.68"
   ]
  },
  {
   "cell_type": "markdown",
   "id": "de335935",
   "metadata": {},
   "source": [
    "### Conv model"
   ]
  },
  {
   "cell_type": "markdown",
   "id": "06910d49",
   "metadata": {},
   "source": [
    "NDCG@5 0.57, NDCG@10 0.64"
   ]
  },
  {
   "cell_type": "markdown",
   "id": "bc2e9db5",
   "metadata": {},
   "source": [
    "### Bert model"
   ]
  },
  {
   "cell_type": "code",
   "execution_count": 2,
   "id": "98fa4402",
   "metadata": {},
   "outputs": [
    {
     "name": "stdout",
     "output_type": "stream",
     "text": [
      "The tensorboard extension is already loaded. To reload it, use:\n",
      "  %reload_ext tensorboard\n"
     ]
    },
    {
     "data": {
      "text/html": [
       "\n",
       "      <iframe id=\"tensorboard-frame-894d7317ab47af9e\" width=\"100%\" height=\"800\" frameborder=\"0\">\n",
       "      </iframe>\n",
       "      <script>\n",
       "        (function() {\n",
       "          const frame = document.getElementById(\"tensorboard-frame-894d7317ab47af9e\");\n",
       "          const url = new URL(\"/\", window.location);\n",
       "          const port = 6006;\n",
       "          if (port) {\n",
       "            url.port = port;\n",
       "          }\n",
       "          frame.src = url;\n",
       "        })();\n",
       "      </script>\n",
       "    "
      ],
      "text/plain": [
       "<IPython.core.display.HTML object>"
      ]
     },
     "metadata": {},
     "output_type": "display_data"
    }
   ],
   "source": [
    "%load_ext tensorboard\n",
    "\n",
    "import tensorflow as tf\n",
    "import datetime\n",
    "\n",
    "%tensorboard --logdir bert_model/"
   ]
  },
  {
   "cell_type": "code",
   "execution_count": null,
   "id": "19f9ae89",
   "metadata": {},
   "outputs": [],
   "source": []
  },
  {
   "cell_type": "markdown",
   "id": "ecebd740",
   "metadata": {},
   "source": [
    "### Union model"
   ]
  },
  {
   "cell_type": "code",
   "execution_count": null,
   "id": "34337dd0",
   "metadata": {},
   "outputs": [],
   "source": []
  }
 ],
 "metadata": {
  "kernelspec": {
   "display_name": "Python 3 (ipykernel)",
   "language": "python",
   "name": "python3"
  },
  "language_info": {
   "codemirror_mode": {
    "name": "ipython",
    "version": 3
   },
   "file_extension": ".py",
   "mimetype": "text/x-python",
   "name": "python",
   "nbconvert_exporter": "python",
   "pygments_lexer": "ipython3",
   "version": "3.10.3"
  }
 },
 "nbformat": 4,
 "nbformat_minor": 5
}