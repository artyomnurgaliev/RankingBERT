{
 "cells": [
  {
   "cell_type": "markdown",
   "id": "36e43fff",
   "metadata": {},
   "source": [
    "### Naive model"
   ]
  },
  {
   "cell_type": "markdown",
   "id": "0f92017c",
   "metadata": {},
   "source": [
    "NDCG@5 0.5, NDCG@10 0.58"
   ]
  },
  {
   "cell_type": "markdown",
   "id": "569b40db",
   "metadata": {},
   "source": [
    "### Model with category emb"
   ]
  },
  {
   "cell_type": "markdown",
   "id": "e7d8cad5",
   "metadata": {},
   "source": [
    "NDCG@5 0.55, NDCG@10 0.63 "
   ]
  },
  {
   "cell_type": "markdown",
   "id": "cec29895",
   "metadata": {},
   "source": [
    "### Emb model"
   ]
  },
  {
   "cell_type": "code",
   "execution_count": 1,
   "id": "ed8df765",
   "metadata": {},
   "outputs": [
    {
     "data": {
      "text/html": [
       "\n",
       "      <iframe id=\"tensorboard-frame-4b60c2bdac374a95\" width=\"100%\" height=\"800\" frameborder=\"0\">\n",
       "      </iframe>\n",
       "      <script>\n",
       "        (function() {\n",
       "          const frame = document.getElementById(\"tensorboard-frame-4b60c2bdac374a95\");\n",
       "          const url = new URL(\"/\", window.location);\n",
       "          const port = 6006;\n",
       "          if (port) {\n",
       "            url.port = port;\n",
       "          }\n",
       "          frame.src = url;\n",
       "        })();\n",
       "      </script>\n",
       "    "
      ],
      "text/plain": [
       "<IPython.core.display.HTML object>"
      ]
     },
     "metadata": {},
     "output_type": "display_data"
    }
   ],
   "source": [
    "%load_ext tensorboard\n",
    "\n",
    "import tensorflow as tf\n",
    "import datetime\n",
    "\n",
    "%tensorboard --logdir emb_model/"
   ]
  },
  {
   "cell_type": "markdown",
   "id": "5b0c27dd",
   "metadata": {},
   "source": [
    "NDCG@5 0.64, NDCG@10 0.68"
   ]
  },
  {
   "cell_type": "markdown",
   "id": "c89db208",
   "metadata": {},
   "source": [
    "### Conv model"
   ]
  },
  {
   "cell_type": "code",
   "execution_count": 2,
   "id": "9962ddd3",
   "metadata": {},
   "outputs": [
    {
     "data": {
      "text/html": [
       "\n",
       "      <iframe id=\"tensorboard-frame-e34d3969e981e1ba\" width=\"100%\" height=\"800\" frameborder=\"0\">\n",
       "      </iframe>\n",
       "      <script>\n",
       "        (function() {\n",
       "          const frame = document.getElementById(\"tensorboard-frame-e34d3969e981e1ba\");\n",
       "          const url = new URL(\"/\", window.location);\n",
       "          const port = 6006;\n",
       "          if (port) {\n",
       "            url.port = port;\n",
       "          }\n",
       "          frame.src = url;\n",
       "        })();\n",
       "      </script>\n",
       "    "
      ],
      "text/plain": [
       "<IPython.core.display.HTML object>"
      ]
     },
     "metadata": {},
     "output_type": "display_data"
    }
   ],
   "source": [
    "%tensorboard --logdir conv_model/"
   ]
  },
  {
   "cell_type": "markdown",
   "id": "3ee854ad",
   "metadata": {},
   "source": [
    "NDCG@5 0.57, NDCG@10 0.64"
   ]
  },
  {
   "cell_type": "markdown",
   "id": "3675fcf7",
   "metadata": {},
   "source": [
    "### Bert model"
   ]
  },
  {
   "cell_type": "code",
   "execution_count": 2,
   "id": "98fa4402",
   "metadata": {},
   "outputs": [
    {
     "name": "stdout",
     "output_type": "stream",
     "text": [
      "The tensorboard extension is already loaded. To reload it, use:\n",
      "  %reload_ext tensorboard\n"
     ]
    },
    {
     "data": {
      "text/html": [
       "\n",
       "      <iframe id=\"tensorboard-frame-894d7317ab47af9e\" width=\"100%\" height=\"800\" frameborder=\"0\">\n",
       "      </iframe>\n",
       "      <script>\n",
       "        (function() {\n",
       "          const frame = document.getElementById(\"tensorboard-frame-894d7317ab47af9e\");\n",
       "          const url = new URL(\"/\", window.location);\n",
       "          const port = 6006;\n",
       "          if (port) {\n",
       "            url.port = port;\n",
       "          }\n",
       "          frame.src = url;\n",
       "        })();\n",
       "      </script>\n",
       "    "
      ],
      "text/plain": [
       "<IPython.core.display.HTML object>"
      ]
     },
     "metadata": {},
     "output_type": "display_data"
    }
   ],
   "source": [
    "%load_ext tensorboard\n",
    "\n",
    "import tensorflow as tf\n",
    "import datetime\n",
    "\n",
    "%tensorboard --logdir bert_model/"
   ]
  },
  {
   "cell_type": "markdown",
   "id": "8d1392b4",
   "metadata": {},
   "source": [
    "### Union model"
   ]
  },
  {
   "cell_type": "code",
   "execution_count": null,
   "id": "4b475924",
   "metadata": {},
   "outputs": [],
   "source": []
  }
 ],
 "metadata": {
  "kernelspec": {
   "display_name": "Python 3 (ipykernel)",
   "language": "python",
   "name": "python3"
  },
  "language_info": {
   "codemirror_mode": {
    "name": "ipython",
    "version": 3
   },
   "file_extension": ".py",
   "mimetype": "text/x-python",
   "name": "python",
   "nbconvert_exporter": "python",
   "pygments_lexer": "ipython3",
   "version": "3.9.7"
  }
 },
 "nbformat": 4,
 "nbformat_minor": 5
}