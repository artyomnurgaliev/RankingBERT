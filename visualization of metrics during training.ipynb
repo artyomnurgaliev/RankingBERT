{
 "cells": [
  {
   "cell_type": "markdown",
   "id": "8edacf4c",
   "metadata": {},
   "source": [
    "### Naive model"
   ]
  },
  {
   "cell_type": "markdown",
   "id": "129b2f1e",
   "metadata": {},
   "source": [
    "NDCG@5 0.5, NDCG@10 0.58"
   ]
  },
  {
   "cell_type": "markdown",
   "id": "887a1d99",
   "metadata": {},
   "source": [
    "### Model with category emb"
   ]
  },
  {
   "cell_type": "markdown",
   "id": "6f84ef08",
   "metadata": {},
   "source": [
    "NDCG@5 0.55, NDCG@10 0.63 "
   ]
  },
  {
   "cell_type": "markdown",
   "id": "8ae07d3e",
   "metadata": {},
   "source": [
    "### Emb model"
   ]
  },
  {
   "cell_type": "markdown",
   "id": "7aedd16c",
   "metadata": {},
   "source": [
    "NDCG@5 0.64, NDCG@10 0.68"
   ]
  },
  {
   "cell_type": "markdown",
   "id": "414ec78a",
   "metadata": {},
   "source": [
    "### Conv model"
   ]
  },
  {
   "cell_type": "markdown",
   "id": "969b966c",
   "metadata": {},
   "source": [
    "NDCG@5 0.57, NDCG@10 0.64"
   ]
  },
  {
   "cell_type": "markdown",
   "id": "0c499703",
   "metadata": {},
   "source": [
    "### Bert model"
   ]
  },
  {
   "cell_type": "markdown",
   "id": "8bfb298b",
   "metadata": {},
   "source": [
    "### Union model"
   ]
  },
  {
   "cell_type": "code",
   "execution_count": null,
   "id": "28cd5f11",
   "metadata": {},
   "outputs": [],
   "source": []
  }
 ],
 "metadata": {
  "kernelspec": {
   "display_name": "Python 3 (ipykernel)",
   "language": "python",
   "name": "python3"
  },
  "language_info": {
   "codemirror_mode": {
    "name": "ipython",
    "version": 3
   },
   "file_extension": ".py",
   "mimetype": "text/x-python",
   "name": "python",
   "nbconvert_exporter": "python",
   "pygments_lexer": "ipython3",
   "version": "3.10.3"
  }
 },
 "nbformat": 4,
 "nbformat_minor": 5
}
